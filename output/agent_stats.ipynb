{
 "cells": [
  {
   "cell_type": "code",
   "execution_count": 1,
   "metadata": {},
   "outputs": [],
   "source": [
    "using DataFrames\n",
    "using CSV\n",
    "using Statistics\n",
    "using StatsBase\n",
    "using StatsPlots"
   ]
  },
  {
   "cell_type": "code",
   "execution_count": 112,
   "metadata": {},
   "outputs": [
    {
     "name": "stderr",
     "output_type": "stream",
     "text": [
      "\u001b[32m\u001b[1m   Resolving\u001b[22m\u001b[39m package versions...\n"
     ]
    },
    {
     "name": "stderr",
     "output_type": "stream",
     "text": [
      "\u001b[32m\u001b[1m   Installed\u001b[22m\u001b[39m FFTW ────────────── v1.7.1\n",
      "\u001b[32m\u001b[1m   Installed\u001b[22m\u001b[39m IntelOpenMP_jll ─── v2023.1.0+0\n",
      "\u001b[32m\u001b[1m   Installed\u001b[22m\u001b[39m MKL_jll ─────────── v2023.1.0+0\n",
      "\u001b[32m\u001b[1m   Installed\u001b[22m\u001b[39m KernelDensity ───── v0.6.7\n",
      "\u001b[32m\u001b[1m   Installed\u001b[22m\u001b[39m StatsPlots ──────── v0.15.5\n",
      "\u001b[32m\u001b[1m   Installed\u001b[22m\u001b[39m MultivariateStats ─ v0.10.2\n",
      "\u001b[32m\u001b[1m   Installed\u001b[22m\u001b[39m NearestNeighbors ── v0.4.13\n"
     ]
    },
    {
     "name": "stderr",
     "output_type": "stream",
     "text": [
      "\u001b[32m\u001b[1m   Installed\u001b[22m\u001b[39m Widgets ─────────── v0.6.6\n"
     ]
    },
    {
     "name": "stderr",
     "output_type": "stream",
     "text": [
      "\u001b[32m\u001b[1m   Installed\u001b[22m\u001b[39m Arpack_jll ──────── v3.5.1+1\n",
      "\u001b[32m\u001b[1m   Installed\u001b[22m\u001b[39m Arpack ──────────── v0.5.4\n",
      "\u001b[32m\u001b[1m   Installed\u001b[22m\u001b[39m Clustering ──────── v0.15.3\n"
     ]
    },
    {
     "name": "stderr",
     "output_type": "stream",
     "text": [
      "\u001b[32m\u001b[1m   Installed\u001b[22m\u001b[39m TableOperations ─── v1.2.0\n"
     ]
    },
    {
     "name": "stderr",
     "output_type": "stream",
     "text": [
      "\u001b[32m\u001b[1m    Updating\u001b[22m\u001b[39m `~/localProjects/RLProject/Project.toml`\n",
      "  \u001b[90m[f3b207a7] \u001b[39m\u001b[92m+ StatsPlots v0.15.5\u001b[39m\n",
      "\u001b[32m\u001b[1m    Updating\u001b[22m\u001b[39m `~/localProjects/RLProject/Manifest.toml`\n"
     ]
    },
    {
     "name": "stderr",
     "output_type": "stream",
     "text": [
      "  \u001b[90m[7d9fca2a] \u001b[39m\u001b[92m+ Arpack v0.5.4\u001b[39m\n",
      "  \u001b[90m[aaaa29a8] \u001b[39m\u001b[92m+ Clustering v0.15.3\u001b[39m\n",
      "  \u001b[90m[7a1cc6ca] \u001b[39m\u001b[92m+ FFTW v1.7.1\u001b[39m\n",
      "  \u001b[90m[5ab0869b] \u001b[39m\u001b[92m+ KernelDensity v0.6.7\u001b[39m\n",
      "  \u001b[90m[6f286f6a] \u001b[39m\u001b[92m+ MultivariateStats v0.10.2\u001b[39m\n",
      "  \u001b[90m[b8a86587] \u001b[39m\u001b[92m+ NearestNeighbors v0.4.13\u001b[39m\n",
      "  \u001b[90m[f3b207a7] \u001b[39m\u001b[92m+ StatsPlots v0.15.5\u001b[39m\n",
      "  \u001b[90m[ab02a1b2] \u001b[39m\u001b[92m+ TableOperations v1.2.0\u001b[39m\n",
      "  \u001b[90m[cc8bc4a8] \u001b[39m\u001b[92m+ Widgets v0.6.6\u001b[39m\n",
      "\u001b[33m⌅\u001b[39m \u001b[90m[68821587] \u001b[39m\u001b[92m+ Arpack_jll v3.5.1+1\u001b[39m\n",
      "  \u001b[90m[f5851436] \u001b[39m\u001b[92m+ FFTW_jll v3.3.10+0\u001b[39m\n",
      "  \u001b[90m[1d5cc7b8] \u001b[39m\u001b[92m+ IntelOpenMP_jll v2023.1.0+0\u001b[39m\n",
      "  \u001b[90m[856f044c] \u001b[39m\u001b[92m+ MKL_jll v2023.1.0+0\u001b[39m\n",
      "  \u001b[90m[44cfe95a] \u001b[39m\u001b[93m↑ Pkg v1.9.0 ⇒ v1.9.2\u001b[39m\n",
      "  \u001b[90m[e66e0078] \u001b[39m\u001b[93m↑ CompilerSupportLibraries_jll v1.0.2+0 ⇒ v1.0.5+0\u001b[39m\n",
      "\u001b[36m\u001b[1m        Info\u001b[22m\u001b[39m Packages marked with \u001b[33m⌅\u001b[39m have new versions available but compatibility constraints restrict them from upgrading. To see why use `status --outdated -m`\n"
     ]
    },
    {
     "name": "stderr",
     "output_type": "stream",
     "text": [
      "\u001b[32m\u001b[1mPrecompiling\u001b[22m\u001b[39m project...\n"
     ]
    },
    {
     "name": "stderr",
     "output_type": "stream",
     "text": [
      "\u001b[32m  ✓ \u001b[39m\u001b[90mContour\u001b[39m\n",
      "\u001b[32m  ✓ \u001b[39m\u001b[90mSoftGlobalScope\u001b[39m\n",
      "\u001b[32m  ✓ \u001b[39m\u001b[90mSimpleBufferStream\u001b[39m\n"
     ]
    },
    {
     "name": "stderr",
     "output_type": "stream",
     "text": [
      "\u001b[32m  ✓ \u001b[39m\u001b[90mRatios\u001b[39m\n",
      "\u001b[32m  ✓ \u001b[39m\u001b[90mWoodburyMatrices\u001b[39m\n",
      "\u001b[32m  ✓ \u001b[39m\u001b[90mConcurrentUtilities\u001b[39m\n"
     ]
    },
    {
     "name": "stderr",
     "output_type": "stream",
     "text": [
      "\u001b[32m  ✓ \u001b[39m\u001b[90mURIs\u001b[39m\n"
     ]
    },
    {
     "name": "stderr",
     "output_type": "stream",
     "text": [
      "\u001b[32m  ✓ \u001b[39m\u001b[90mGrisu\u001b[39m\n",
      "\u001b[32m  ✓ \u001b[39m\u001b[90mBitFlags\u001b[39m\n"
     ]
    },
    {
     "name": "stderr",
     "output_type": "stream",
     "text": [
      "\u001b[32m  ✓ \u001b[39m\u001b[90mLoggingExtras\u001b[39m\n"
     ]
    },
    {
     "name": "stderr",
     "output_type": "stream",
     "text": [
      "\u001b[32m  ✓ \u001b[39m\u001b[90mCpuId\u001b[39m\n",
      "\u001b[32m  ✓ \u001b[39m\u001b[90mLibmount_jll\u001b[39m\n"
     ]
    },
    {
     "name": "stderr",
     "output_type": "stream",
     "text": [
      "\u001b[32m  ✓ \u001b[39m\u001b[90mCUDA_Runtime_Discovery\u001b[39m\n",
      "\u001b[32m  ✓ \u001b[39m\u001b[90mlibsodium_jll\u001b[39m\n"
     ]
    },
    {
     "name": "stderr",
     "output_type": "stream",
     "text": [
      "\u001b[32m  ✓ \u001b[39m\u001b[90mXorg_libXau_jll\u001b[39m\n"
     ]
    },
    {
     "name": "stderr",
     "output_type": "stream",
     "text": [
      "\u001b[32m  ✓ \u001b[39m\u001b[90mIntelOpenMP_jll\u001b[39m\n",
      "\u001b[32m  ✓ \u001b[39m\u001b[90mXorg_libXdmcp_jll\u001b[39m\n"
     ]
    },
    {
     "name": "stderr",
     "output_type": "stream",
     "text": [
      "\u001b[32m  ✓ \u001b[39m\u001b[90mArpack_jll\u001b[39m\n"
     ]
    },
    {
     "name": "stderr",
     "output_type": "stream",
     "text": [
      "\u001b[32m  ✓ \u001b[39m\u001b[90mMbedTLS\u001b[39m\n",
      "\u001b[32m  ✓ \u001b[39m\u001b[90mXorg_xtrans_jll\u001b[39m\n",
      "\u001b[32m  ✓ \u001b[39m\u001b[90mLibgpg_error_jll\u001b[39m\n",
      "\u001b[32m  ✓ \u001b[39m\u001b[90mWayland_protocols_jll\u001b[39m\n"
     ]
    },
    {
     "name": "stderr",
     "output_type": "stream",
     "text": [
      "\u001b[32m  ✓ \u001b[39m\u001b[90mFFTW_jll\u001b[39m\n",
      "\u001b[32m  ✓ \u001b[39m\u001b[90mXorg_libpthread_stubs_jll\u001b[39m\n"
     ]
    },
    {
     "name": "stderr",
     "output_type": "stream",
     "text": [
      "\u001b[32m  ✓ \u001b[39m\u001b[90mDbus_jll\u001b[39m\n",
      "\u001b[32m  ✓ \u001b[39m\u001b[90mWayland_jll\u001b[39m\n"
     ]
    },
    {
     "name": "stderr",
     "output_type": "stream",
     "text": [
      "\u001b[32m  ✓ \u001b[39m\u001b[90mTableOperations\u001b[39m\n"
     ]
    },
    {
     "name": "stderr",
     "output_type": "stream",
     "text": [
      "\u001b[32m  ✓ \u001b[39m\u001b[90mShowoff\u001b[39m\n",
      "\u001b[32m  ✓ \u001b[39m\u001b[90mWidgets\u001b[39m\n",
      "\u001b[32m  ✓ \u001b[39m\u001b[90mNearestNeighbors\u001b[39m\n",
      "\u001b[32m  ✓ \u001b[39m\u001b[90mRatios → RatiosFixedPointNumbersExt\u001b[39m\n"
     ]
    },
    {
     "name": "stderr",
     "output_type": "stream",
     "text": [
      "\u001b[32m  ✓ \u001b[39m\u001b[90mLatexify\u001b[39m\n"
     ]
    },
    {
     "name": "stderr",
     "output_type": "stream",
     "text": [
      "\u001b[32m  ✓ \u001b[39m\u001b[90mCPUSummary\u001b[39m\n",
      "\u001b[32m  ✓ \u001b[39m\u001b[90mAxisAlgorithms\u001b[39m\n"
     ]
    },
    {
     "name": "stderr",
     "output_type": "stream",
     "text": [
      "\u001b[32m  ✓ \u001b[39m\u001b[90mGlib_jll\u001b[39m\n",
      "\u001b[32m  ✓ \u001b[39m\u001b[90mMKL_jll\u001b[39m\n"
     ]
    },
    {
     "name": "stderr",
     "output_type": "stream",
     "text": [
      "\u001b[32m  ✓ \u001b[39m\u001b[90mZeroMQ_jll\u001b[39m\n"
     ]
    },
    {
     "name": "stderr",
     "output_type": "stream",
     "text": [
      "\u001b[32m  ✓ \u001b[39m\u001b[90mLibgcrypt_jll\u001b[39m\n"
     ]
    },
    {
     "name": "stderr",
     "output_type": "stream",
     "text": [
      "\u001b[32m  ✓ \u001b[39m\u001b[90mArpack\u001b[39m\n"
     ]
    },
    {
     "name": "stderr",
     "output_type": "stream",
     "text": [
      "\u001b[32m  ✓ \u001b[39m\u001b[90mPolyesterWeave\u001b[39m\n",
      "\u001b[32m  ✓ \u001b[39m\u001b[90mOpenSSL\u001b[39m\n"
     ]
    },
    {
     "name": "stderr",
     "output_type": "stream",
     "text": [
      "\u001b[32m  ✓ \u001b[39m\u001b[90mATK_jll\u001b[39m\n"
     ]
    },
    {
     "name": "stderr",
     "output_type": "stream",
     "text": [
      "\u001b[32m  ✓ \u001b[39m\u001b[90mClustering\u001b[39m\n"
     ]
    },
    {
     "name": "stderr",
     "output_type": "stream",
     "text": [
      "\u001b[32m  ✓ \u001b[39m\u001b[90mLatexify → DataFramesExt\u001b[39m\n"
     ]
    },
    {
     "name": "stderr",
     "output_type": "stream",
     "text": [
      "\u001b[32m  ✓ \u001b[39m\u001b[90mXSLT_jll\u001b[39m\n",
      "\u001b[32m  ✓ \u001b[39mInterpolations\n"
     ]
    },
    {
     "name": "stderr",
     "output_type": "stream",
     "text": [
      "\u001b[32m  ✓ \u001b[39m\u001b[90mZMQ\u001b[39m\n",
      "\u001b[32m  ✓ \u001b[39m\u001b[90mXorg_libxcb_jll\u001b[39m\n"
     ]
    },
    {
     "name": "stderr",
     "output_type": "stream",
     "text": [
      "\u001b[32m  ✓ \u001b[39m\u001b[90mMultivariateStats\u001b[39m\n"
     ]
    },
    {
     "name": "stderr",
     "output_type": "stream",
     "text": [
      "\u001b[32m  ✓ \u001b[39m\u001b[90mXorg_xcb_util_jll\u001b[39m\n",
      "\u001b[32m  ✓ \u001b[39m\u001b[90mXorg_libX11_jll\u001b[39m\n"
     ]
    },
    {
     "name": "stderr",
     "output_type": "stream",
     "text": [
      "\u001b[32m  ✓ \u001b[39m\u001b[90mXorg_xcb_util_keysyms_jll\u001b[39m\n",
      "\u001b[32m  ✓ \u001b[39m\u001b[90mXorg_xcb_util_renderutil_jll\u001b[39m\n",
      "\u001b[32m  ✓ \u001b[39m\u001b[90mXorg_xcb_util_image_jll\u001b[39m\n",
      "\u001b[32m  ✓ \u001b[39m\u001b[90mXorg_xcb_util_wm_jll\u001b[39m\n"
     ]
    },
    {
     "name": "stderr",
     "output_type": "stream",
     "text": [
      "\u001b[32m  ✓ \u001b[39m\u001b[90mXorg_libXrender_jll\u001b[39m\n",
      "\u001b[32m  ✓ \u001b[39m\u001b[90mXorg_libXext_jll\u001b[39m\n"
     ]
    },
    {
     "name": "stderr",
     "output_type": "stream",
     "text": [
      "\u001b[32m  ✓ \u001b[39m\u001b[90mXorg_libXfixes_jll\u001b[39m\n",
      "\u001b[32m  ✓ \u001b[39m\u001b[90mgdk_pixbuf_jll\u001b[39m\n"
     ]
    },
    {
     "name": "stderr",
     "output_type": "stream",
     "text": [
      "\u001b[32m  ✓ \u001b[39m\u001b[90mXorg_libxkbfile_jll\u001b[39m\n"
     ]
    },
    {
     "name": "stderr",
     "output_type": "stream",
     "text": [
      "\u001b[32m  ✓ \u001b[39m\u001b[90mLibglvnd_jll\u001b[39m\n",
      "\u001b[32m  ✓ \u001b[39m\u001b[90mXorg_libXinerama_jll\u001b[39m\n",
      "\u001b[32m  ✓ \u001b[39m\u001b[90mXorg_libXrandr_jll\u001b[39m\n"
     ]
    },
    {
     "name": "stderr",
     "output_type": "stream",
     "text": [
      "\u001b[32m  ✓ \u001b[39mIJulia\n"
     ]
    },
    {
     "name": "stderr",
     "output_type": "stream",
     "text": [
      "\u001b[32m  ✓ \u001b[39m\u001b[90mXorg_libXcomposite_jll\u001b[39m\n",
      "\u001b[32m  ✓ \u001b[39m\u001b[90mXorg_libXdamage_jll\u001b[39m\n"
     ]
    },
    {
     "name": "stderr",
     "output_type": "stream",
     "text": [
      "\u001b[32m  ✓ \u001b[39m\u001b[90mCairo_jll\u001b[39m\n",
      "\u001b[32m  ✓ \u001b[39m\u001b[90mXorg_libXcursor_jll\u001b[39m\n"
     ]
    },
    {
     "name": "stderr",
     "output_type": "stream",
     "text": [
      "\u001b[32m  ✓ \u001b[39m\u001b[90mXorg_libXi_jll\u001b[39m\n"
     ]
    },
    {
     "name": "stderr",
     "output_type": "stream",
     "text": [
      "\u001b[32m  ✓ \u001b[39m\u001b[90mXorg_xkbcomp_jll\u001b[39m\n"
     ]
    },
    {
     "name": "stderr",
     "output_type": "stream",
     "text": [
      "\u001b[32m  ✓ \u001b[39m\u001b[90mXorg_libXtst_jll\u001b[39m\n"
     ]
    },
    {
     "name": "stderr",
     "output_type": "stream",
     "text": [
      "\u001b[32m  ✓ \u001b[39m\u001b[90mLibepoxy_jll\u001b[39m\n",
      "\u001b[32m  ✓ \u001b[39m\u001b[90mGLFW_jll\u001b[39m\n",
      "\u001b[32m  ✓ \u001b[39m\u001b[90mXorg_xkeyboard_config_jll\u001b[39m\n"
     ]
    },
    {
     "name": "stderr",
     "output_type": "stream",
     "text": [
      "\u001b[32m  ✓ \u001b[39m\u001b[90mHarfBuzz_jll\u001b[39m\n"
     ]
    },
    {
     "name": "stderr",
     "output_type": "stream",
     "text": [
      "\u001b[32m  ✓ \u001b[39m\u001b[90mat_spi2_core_jll\u001b[39m\n"
     ]
    },
    {
     "name": "stderr",
     "output_type": "stream",
     "text": [
      "\u001b[32m  ✓ \u001b[39m\u001b[90mHTTP\u001b[39m\n",
      "\u001b[32m  ✓ \u001b[39m\u001b[90mxkbcommon_jll\u001b[39m\n"
     ]
    },
    {
     "name": "stderr",
     "output_type": "stream",
     "text": [
      "\u001b[32m  ✓ \u001b[39m\u001b[90mat_spi2_atk_jll\u001b[39m\n"
     ]
    },
    {
     "name": "stderr",
     "output_type": "stream",
     "text": [
      "\u001b[32m  ✓ \u001b[39m\u001b[90mlibass_jll\u001b[39m\n",
      "\u001b[32m  ✓ \u001b[39m\u001b[90mPango_jll\u001b[39m\n",
      "\u001b[32m  ✓ \u001b[39m\u001b[90mQt5Base_jll\u001b[39m\n"
     ]
    },
    {
     "name": "stderr",
     "output_type": "stream",
     "text": [
      "\u001b[32m  ✓ \u001b[39m\u001b[90mFFMPEG_jll\u001b[39m\n"
     ]
    },
    {
     "name": "stderr",
     "output_type": "stream",
     "text": [
      "\u001b[32m  ✓ \u001b[39m\u001b[90mLibrsvg_jll\u001b[39m\n"
     ]
    },
    {
     "name": "stderr",
     "output_type": "stream",
     "text": [
      "\u001b[32m  ✓ \u001b[39m\u001b[90mCairo\u001b[39m\n"
     ]
    },
    {
     "name": "stderr",
     "output_type": "stream",
     "text": [
      "\u001b[32m  ✓ \u001b[39m\u001b[90mGTK3_jll\u001b[39m\n"
     ]
    },
    {
     "name": "stderr",
     "output_type": "stream",
     "text": [
      "\u001b[32m  ✓ \u001b[39m\u001b[90mFFMPEG\u001b[39m\n"
     ]
    },
    {
     "name": "stderr",
     "output_type": "stream",
     "text": [
      "\u001b[32m  ✓ \u001b[39m\u001b[90mGR_jll\u001b[39m\n"
     ]
    },
    {
     "name": "stderr",
     "output_type": "stream",
     "text": [
      "\u001b[32m  ✓ \u001b[39m\u001b[90mFFTW\u001b[39m\n"
     ]
    },
    {
     "name": "stderr",
     "output_type": "stream",
     "text": [
      "\u001b[32m  ✓ \u001b[39m\u001b[90mGR\u001b[39m\n"
     ]
    },
    {
     "name": "stderr",
     "output_type": "stream",
     "text": [
      "\u001b[32m  ✓ \u001b[39m\u001b[90mKernelDensity\u001b[39m\n"
     ]
    },
    {
     "name": "stderr",
     "output_type": "stream",
     "text": [
      "\u001b[32m  ✓ \u001b[39m\u001b[90mGtk\u001b[39m\n"
     ]
    },
    {
     "name": "stderr",
     "output_type": "stream",
     "text": [
      "\u001b[32m  ✓ \u001b[39m\u001b[90mUnitful\u001b[39m\n"
     ]
    },
    {
     "name": "stderr",
     "output_type": "stream",
     "text": [
      "\u001b[32m  ✓ \u001b[39m\u001b[90mUnitful → InverseFunctionsUnitfulExt\u001b[39m\n"
     ]
    },
    {
     "name": "stderr",
     "output_type": "stream",
     "text": [
      "\u001b[32m  ✓ \u001b[39m\u001b[90mUnitfulLatexify\u001b[39m\n"
     ]
    },
    {
     "name": "stderr",
     "output_type": "stream",
     "text": [
      "\u001b[32m  ✓ \u001b[39m\u001b[90mGtkObservables\u001b[39m\n"
     ]
    },
    {
     "name": "stderr",
     "output_type": "stream",
     "text": [
      "\u001b[32m  ✓ \u001b[39mProfileView\n"
     ]
    },
    {
     "name": "stderr",
     "output_type": "stream",
     "text": [
      "\u001b[32m  ✓ \u001b[39m\u001b[90mCUDA\u001b[39m\n"
     ]
    },
    {
     "name": "stderr",
     "output_type": "stream",
     "text": [
      "\u001b[32m  ✓ \u001b[39m\u001b[90mArrayInterface → ArrayInterfaceCUDAExt\u001b[39m\n"
     ]
    },
    {
     "name": "stderr",
     "output_type": "stream",
     "text": [
      "\u001b[32m  ✓ \u001b[39m\u001b[90mFiniteDiff\u001b[39m\n"
     ]
    },
    {
     "name": "stderr",
     "output_type": "stream",
     "text": [
      "\u001b[32m  ✓ \u001b[39m\u001b[90mRecursiveArrayTools\u001b[39m\n"
     ]
    },
    {
     "name": "stderr",
     "output_type": "stream",
     "text": [
      "\u001b[32m  ✓ \u001b[39m\u001b[90mStaticArrayInterface\u001b[39m\n"
     ]
    },
    {
     "name": "stderr",
     "output_type": "stream",
     "text": [
      "\u001b[32m  ✓ \u001b[39m\u001b[90mSciMLOperators\u001b[39m\n"
     ]
    },
    {
     "name": "stderr",
     "output_type": "stream",
     "text": [
      "\u001b[32m  ✓ \u001b[39m\u001b[90mNLSolversBase\u001b[39m\n",
      "\u001b[32m  ✓ \u001b[39m\u001b[90mFiniteDiff → FiniteDiffStaticArraysExt\u001b[39m\n",
      "\u001b[32m  ✓ \u001b[39m\u001b[90mStaticArrayInterface → StaticArrayInterfaceOffsetArraysExt\u001b[39m\n"
     ]
    },
    {
     "name": "stderr",
     "output_type": "stream",
     "text": [
      "\u001b[32m  ✓ \u001b[39m\u001b[90mCloseOpenIntervals\u001b[39m\n",
      "\u001b[32m  ✓ \u001b[39m\u001b[90mStaticArrayInterface → StaticArrayInterfaceStaticArraysExt\u001b[39m\n"
     ]
    },
    {
     "name": "stderr",
     "output_type": "stream",
     "text": [
      "\u001b[32m  ✓ \u001b[39m\u001b[90mLayoutPointers\u001b[39m\n",
      "\u001b[32m  ✓ \u001b[39m\u001b[90mRecursiveArrayTools → RecursiveArrayToolsTrackerExt\u001b[39m\n"
     ]
    },
    {
     "name": "stderr",
     "output_type": "stream",
     "text": [
      "\u001b[32m  ✓ \u001b[39m\u001b[90mFiniteDiff → FiniteDiffBandedMatricesExt\u001b[39m\n"
     ]
    },
    {
     "name": "stderr",
     "output_type": "stream",
     "text": [
      "\u001b[32m  ✓ \u001b[39m\u001b[90mEllipsisNotation\u001b[39m\n"
     ]
    },
    {
     "name": "stderr",
     "output_type": "stream",
     "text": [
      "\u001b[32m  ✓ \u001b[39m\u001b[90mRecursiveArrayTools → RecursiveArrayToolsZygoteExt\u001b[39m\n"
     ]
    },
    {
     "name": "stderr",
     "output_type": "stream",
     "text": [
      "\u001b[32m  ✓ \u001b[39m\u001b[90mcuDNN\u001b[39m\n"
     ]
    },
    {
     "name": "stderr",
     "output_type": "stream",
     "text": [
      "\u001b[32m  ✓ \u001b[39m\u001b[90mLineSearches\u001b[39m\n"
     ]
    },
    {
     "name": "stderr",
     "output_type": "stream",
     "text": [
      "\u001b[32m  ✓ \u001b[39m\u001b[90mSparseDiffTools\u001b[39m\n"
     ]
    },
    {
     "name": "stderr",
     "output_type": "stream",
     "text": [
      "\u001b[32m  ✓ \u001b[39m\u001b[90mStrideArraysCore\u001b[39m\n"
     ]
    },
    {
     "name": "stderr",
     "output_type": "stream",
     "text": [
      "\u001b[32m  ✓ \u001b[39m\u001b[90mNLsolve\u001b[39m\n"
     ]
    },
    {
     "name": "stderr",
     "output_type": "stream",
     "text": [
      "\u001b[32m  ✓ \u001b[39m\u001b[90mPolyester\u001b[39m\n"
     ]
    },
    {
     "name": "stderr",
     "output_type": "stream",
     "text": [
      "\u001b[32m  ✓ \u001b[39m\u001b[90mSparseDiffTools → SparseDiffToolsZygote\u001b[39m\n"
     ]
    },
    {
     "name": "stderr",
     "output_type": "stream",
     "text": [
      "\u001b[32m  ✓ \u001b[39m\u001b[90mSciMLBase\u001b[39m\n",
      "\u001b[32m  ✓ \u001b[39m\u001b[90mOptim\u001b[39m\n"
     ]
    },
    {
     "name": "stderr",
     "output_type": "stream",
     "text": [
      "\u001b[32m  ✓ \u001b[39m\u001b[90mFastBroadcast\u001b[39m\n"
     ]
    },
    {
     "name": "stderr",
     "output_type": "stream",
     "text": [
      "\u001b[32m  ✓ \u001b[39m\u001b[90mNNlibCUDA\u001b[39m\n"
     ]
    },
    {
     "name": "stderr",
     "output_type": "stream",
     "text": [
      "\u001b[32m  ✓ \u001b[39m\u001b[90mDiffEqBase\u001b[39m\n"
     ]
    },
    {
     "name": "stderr",
     "output_type": "stream",
     "text": [
      "\u001b[32m  ✓ \u001b[39m\u001b[90mDiffEqBase → DiffEqBaseDistributionsExt\u001b[39m\n"
     ]
    },
    {
     "name": "stderr",
     "output_type": "stream",
     "text": [
      "\u001b[32m  ✓ \u001b[39m\u001b[90mDiffEqBase → DiffEqBaseUnitfulExt\u001b[39m\n"
     ]
    },
    {
     "name": "stderr",
     "output_type": "stream",
     "text": [
      "\u001b[32m  ✓ \u001b[39m\u001b[90mDiffEqBase → DiffEqBaseTrackerExt\u001b[39m\n",
      "\u001b[32m  ✓ \u001b[39m\u001b[90mDiffEqBase → DiffEqBaseZygoteExt\u001b[39m\n"
     ]
    },
    {
     "name": "stderr",
     "output_type": "stream",
     "text": [
      "\u001b[32m  ✓ \u001b[39m\u001b[90mVectorizationBase\u001b[39m\n"
     ]
    },
    {
     "name": "stderr",
     "output_type": "stream",
     "text": [
      "\u001b[32m  ✓ \u001b[39m\u001b[90mDiffEqCallbacks\u001b[39m\n"
     ]
    },
    {
     "name": "stderr",
     "output_type": "stream",
     "text": [
      "\u001b[32m  ✓ \u001b[39m\u001b[90mSciMLNLSolve\u001b[39m\n"
     ]
    },
    {
     "name": "stderr",
     "output_type": "stream",
     "text": [
      "\u001b[32m  ✓ \u001b[39m\u001b[90mJumpProcesses\u001b[39m\n",
      "\u001b[32m  ✓ \u001b[39mFlux\n"
     ]
    },
    {
     "name": "stderr",
     "output_type": "stream",
     "text": [
      "\u001b[32m  ✓ \u001b[39m\u001b[90mSLEEFPirates\u001b[39m\n"
     ]
    },
    {
     "name": "stderr",
     "output_type": "stream",
     "text": [
      "\u001b[32m  ✓ \u001b[39m\u001b[90mDiffEqBase → DiffEqBaseReverseDiffExt\u001b[39m\n"
     ]
    },
    {
     "name": "stderr",
     "output_type": "stream",
     "text": [
      "\u001b[32m  ✓ \u001b[39m\u001b[90mDiffEqNoiseProcess\u001b[39m\n"
     ]
    },
    {
     "name": "stderr",
     "output_type": "stream",
     "text": [
      "\u001b[32m  ✓ \u001b[39m\u001b[90mSimpleNonlinearSolve\u001b[39m\n"
     ]
    },
    {
     "name": "stderr",
     "output_type": "stream",
     "text": [
      "\u001b[32m  ✓ \u001b[39m\u001b[90mSteadyStateDiffEq\u001b[39m\n"
     ]
    },
    {
     "name": "stderr",
     "output_type": "stream",
     "text": [
      "\u001b[32m  ✓ \u001b[39m\u001b[90mBoundaryValueDiffEq\u001b[39m\n"
     ]
    },
    {
     "name": "stderr",
     "output_type": "stream",
     "text": [
      "\u001b[32m  ✓ \u001b[39mPlots\n"
     ]
    },
    {
     "name": "stderr",
     "output_type": "stream",
     "text": [
      "\u001b[32m  ✓ \u001b[39m\u001b[90mSundials\u001b[39m\n"
     ]
    },
    {
     "name": "stderr",
     "output_type": "stream",
     "text": [
      "\u001b[32m  ✓ \u001b[39m\u001b[90mSimpleNonlinearSolve → SimpleBatchedNonlinearSolveExt\u001b[39m\n"
     ]
    },
    {
     "name": "stderr",
     "output_type": "stream",
     "text": [
      "\u001b[32m  ✓ \u001b[39mDQN\n",
      "\u001b[32m  ✓ \u001b[39mDDPG\n"
     ]
    },
    {
     "name": "stderr",
     "output_type": "stream",
     "text": [
      "\u001b[32m  ✓ \u001b[39m\u001b[90mPlots → FileIOExt\u001b[39m\n"
     ]
    },
    {
     "name": "stderr",
     "output_type": "stream",
     "text": [
      "\u001b[32m  ✓ \u001b[39m\u001b[90mPlots → IJuliaExt\u001b[39m\n"
     ]
    },
    {
     "name": "stderr",
     "output_type": "stream",
     "text": [
      "\u001b[32m  ✓ \u001b[39m\u001b[90mDiffEqNoiseProcess → DiffEqNoiseProcessReverseDiffExt\u001b[39m\n"
     ]
    },
    {
     "name": "stderr",
     "output_type": "stream",
     "text": [
      "\u001b[32m  ✓ \u001b[39m\u001b[90mPlots → UnitfulExt\u001b[39m\n"
     ]
    },
    {
     "name": "stderr",
     "output_type": "stream",
     "text": [
      "\u001b[32m  ✓ \u001b[39mStatsPlots\n"
     ]
    },
    {
     "name": "stderr",
     "output_type": "stream",
     "text": [
      "\u001b[32m  ✓ \u001b[39m\u001b[90mLoopVectorization\u001b[39m\n"
     ]
    },
    {
     "name": "stderr",
     "output_type": "stream",
     "text": [
      "\u001b[32m  ✓ \u001b[39m\u001b[90mLoopVectorization → SpecialFunctionsExt\u001b[39m\n"
     ]
    },
    {
     "name": "stderr",
     "output_type": "stream",
     "text": [
      "\u001b[32m  ✓ \u001b[39m\u001b[90mLoopVectorization → ForwardDiffExt\u001b[39m\n"
     ]
    },
    {
     "name": "stderr",
     "output_type": "stream",
     "text": [
      "\u001b[32m  ✓ \u001b[39m\u001b[90mTriangularSolve\u001b[39m\n"
     ]
    },
    {
     "name": "stderr",
     "output_type": "stream",
     "text": [
      "\u001b[32m  ✓ \u001b[39m\u001b[90mRecursiveFactorization\u001b[39m\n"
     ]
    },
    {
     "name": "stderr",
     "output_type": "stream",
     "text": [
      "\u001b[32m  ✓ \u001b[39m\u001b[90mLinearSolve\u001b[39m\n"
     ]
    },
    {
     "name": "stderr",
     "output_type": "stream",
     "text": [
      "\u001b[32m  ✓ \u001b[39m\u001b[90mLinearSolve → LinearSolveCUDAExt\u001b[39m\n"
     ]
    },
    {
     "name": "stderr",
     "output_type": "stream",
     "text": [
      "\u001b[32m  ✓ \u001b[39m\u001b[90mNonlinearSolve\u001b[39m\n"
     ]
    },
    {
     "name": "stderr",
     "output_type": "stream",
     "text": [
      "\u001b[32m  ✓ \u001b[39m\u001b[90mOrdinaryDiffEq\u001b[39m\n"
     ]
    },
    {
     "name": "stderr",
     "output_type": "stream",
     "text": [
      "\u001b[32m  ✓ \u001b[39m\u001b[90mDelayDiffEq\u001b[39m\n"
     ]
    },
    {
     "name": "stderr",
     "output_type": "stream",
     "text": [
      "\u001b[32m  ✓ \u001b[39m\u001b[90mStochasticDiffEq\u001b[39m\n"
     ]
    },
    {
     "name": "stderr",
     "output_type": "stream",
     "text": [
      "\u001b[32m  ✓ \u001b[39mDifferentialEquations\n"
     ]
    },
    {
     "name": "stderr",
     "output_type": "stream",
     "text": [
      "\u001b[32m  ✓ \u001b[39mSciMLSensitivity\n"
     ]
    },
    {
     "name": "stderr",
     "output_type": "stream",
     "text": [
      "\u001b[32m  ✓ \u001b[39mNODEDynamics\n",
      "\u001b[32m  ✓ \u001b[39mODERNNDynamics\n"
     ]
    }
   ],
   "source": [
    "using Pkg\n",
    "Pkg.add(\"StatsPlots\")"
   ]
  },
  {
   "cell_type": "code",
   "execution_count": 37,
   "metadata": {},
   "outputs": [],
   "source": [
    "acrobot_mf = CSV.read(\"acrobot_mf.csv\", DataFrame)\n",
    "acrobot_node = CSV.read(\"acrobot_node.csv\", DataFrame)\n",
    "acrobot_odernn = CSV.read(\"acrobot_odernn.csv\", DataFrame);"
   ]
  },
  {
   "cell_type": "code",
   "execution_count": 17,
   "metadata": {},
   "outputs": [],
   "source": [
    "\n",
    "acrobot_mf.iqr = iqr.(eachrow(acrobot_mf))\n",
    "acrobot_mf.l_quartile = quantile.(eachrow(acrobot_mf), 0.25)\n",
    "acrobot_mf.h_quartile = quantile.(eachrow(acrobot_mf), 0.75);\n",
    "acrobot_mf.lower_bound = acrobot_mf.l_quartile - 1.5 .* acrobot_mf.iqr\n",
    "acrobot_mf.upper_bound = acrobot_mf.h_quartile + 1.5 .* acrobot_mf.iqr;\n"
   ]
  },
  {
   "cell_type": "code",
   "execution_count": 18,
   "metadata": {},
   "outputs": [
    {
     "data": {
      "text/html": [
       "<div><div style = \"float: left;\"><span>DataFrameRow (15 columns)</span></div><div style = \"clear: both;\"></div></div><div class = \"data-frame\" style = \"overflow-x: scroll;\"><table class = \"data-frame\" style = \"margin-bottom: 6px;\"><thead><tr class = \"header\"><th class = \"rowLabel\" style = \"font-weight: bold; text-align: right;\">Row</th><th style = \"text-align: left;\">Rewards_1</th><th style = \"text-align: left;\">Rewards_2</th><th style = \"text-align: left;\">Rewards_3</th><th style = \"text-align: left;\">Rewards_4</th><th style = \"text-align: left;\">Rewards_5</th><th style = \"text-align: left;\">Rewards_6</th><th style = \"text-align: left;\">Rewards_7</th><th style = \"text-align: left;\">Rewards_8</th><th style = \"text-align: left;\">Rewards_9</th><th style = \"text-align: left;\">Rewards_10</th><th style = \"text-align: left;\">iqr</th><th style = \"text-align: left;\">l_quartile</th><th style = \"text-align: left;\">h_quartile</th><th style = \"text-align: left;\">lower_bound</th><th style = \"text-align: left;\">upper_bound</th></tr><tr class = \"subheader headerLastRow\"><th class = \"rowLabel\" style = \"font-weight: bold; text-align: right;\"></th><th title = \"Float64\" style = \"text-align: left;\">Float64</th><th title = \"Float64\" style = \"text-align: left;\">Float64</th><th title = \"Float64\" style = \"text-align: left;\">Float64</th><th title = \"Float64\" style = \"text-align: left;\">Float64</th><th title = \"Float64\" style = \"text-align: left;\">Float64</th><th title = \"Float64\" style = \"text-align: left;\">Float64</th><th title = \"Float64\" style = \"text-align: left;\">Float64</th><th title = \"Float64\" style = \"text-align: left;\">Float64</th><th title = \"Float64\" style = \"text-align: left;\">Float64</th><th title = \"Float64\" style = \"text-align: left;\">Float64</th><th title = \"Float64\" style = \"text-align: left;\">Float64</th><th title = \"Float64\" style = \"text-align: left;\">Float64</th><th title = \"Float64\" style = \"text-align: left;\">Float64</th><th title = \"Float64\" style = \"text-align: left;\">Float64</th><th title = \"Float64\" style = \"text-align: left;\">Float64</th></tr></thead><tbody><tr><td class = \"rowLabel\" style = \"font-weight: bold; text-align: right;\">499</td><td style = \"text-align: right;\">-141.0</td><td style = \"text-align: right;\">-96.0</td><td style = \"text-align: right;\">-120.0</td><td style = \"text-align: right;\">-94.0</td><td style = \"text-align: right;\">-98.0</td><td style = \"text-align: right;\">-70.0</td><td style = \"text-align: right;\">-109.0</td><td style = \"text-align: right;\">-94.0</td><td style = \"text-align: right;\">-423.0</td><td style = \"text-align: right;\">-107.0</td><td style = \"text-align: right;\">22.75</td><td style = \"text-align: right;\">-114.5</td><td style = \"text-align: right;\">-94.0</td><td style = \"text-align: right;\">-148.625</td><td style = \"text-align: right;\">-59.875</td></tr></tbody></table></div>"
      ],
      "text/latex": [
       "\\begin{tabular}{r|ccccccccc}\n",
       "\t& Rewards\\_1 & Rewards\\_2 & Rewards\\_3 & Rewards\\_4 & Rewards\\_5 & Rewards\\_6 & Rewards\\_7 & Rewards\\_8 & \\\\\n",
       "\t\\hline\n",
       "\t& Float64 & Float64 & Float64 & Float64 & Float64 & Float64 & Float64 & Float64 & \\\\\n",
       "\t\\hline\n",
       "\t499 & -141.0 & -96.0 & -120.0 & -94.0 & -98.0 & -70.0 & -109.0 & -94.0 & $\\dots$ \\\\\n",
       "\\end{tabular}\n"
      ],
      "text/plain": [
       "\u001b[1mDataFrameRow\u001b[0m\n",
       "\u001b[1m Row \u001b[0m│\u001b[1m Rewards_1 \u001b[0m\u001b[1m Rewards_2 \u001b[0m\u001b[1m Rewards_3 \u001b[0m\u001b[1m Rewards_4 \u001b[0m\u001b[1m Rewards_5 \u001b[0m\u001b[1m Rewards_6 \u001b[0m\u001b[1m Rewar\u001b[0m ⋯\n",
       "     │\u001b[90m Float64   \u001b[0m\u001b[90m Float64   \u001b[0m\u001b[90m Float64   \u001b[0m\u001b[90m Float64   \u001b[0m\u001b[90m Float64   \u001b[0m\u001b[90m Float64   \u001b[0m\u001b[90m Float\u001b[0m ⋯\n",
       "─────┼──────────────────────────────────────────────────────────────────────────\n",
       " 499 │    -141.0      -96.0     -120.0      -94.0      -98.0      -70.0     -1 ⋯\n",
       "\u001b[36m                                                               9 columns omitted\u001b[0m"
      ]
     },
     "metadata": {},
     "output_type": "display_data"
    }
   ],
   "source": []
  },
  {
   "cell_type": "code",
   "execution_count": 65,
   "metadata": {},
   "outputs": [
    {
     "data": {
      "text/plain": [
       "499-element Vector{Float64}:\n",
       " -500.0\n",
       " -500.0\n",
       " -500.0\n",
       " -500.0\n",
       " -500.0\n",
       " -500.0\n",
       " -500.0\n",
       " -404.375\n",
       " -500.0\n",
       " -470.0\n",
       "    ⋮\n",
       "  -63.625\n",
       "  -55.5\n",
       "   16.5\n",
       "  -35.5\n",
       "  -80.375\n",
       "  -58.625\n",
       "   32.25\n",
       "  -36.5\n",
       "  -60.375"
      ]
     },
     "metadata": {},
     "output_type": "display_data"
    }
   ],
   "source": [
    "iqr_range = iqr.(eachrow(acrobot_mf))\n",
    "l_quartile = quantile.(eachrow(acrobot_mf), 0.25)\n",
    "h_quartile = quantile.(eachrow(acrobot_mf), 0.75)\n",
    "lower_bound = l_quartile .- 1.5 .* iqr_range\n",
    "upper_bound = h_quartile .+ 1.5 .* iqr_range\n",
    "\n",
    "    # @show [df[i,:] < lower_bound[i] for i in 1:499] #  "
   ]
  },
  {
   "cell_type": "code",
   "execution_count": 87,
   "metadata": {},
   "outputs": [
    {
     "ename": "MethodError",
     "evalue": "MethodError: no method matching getindex(::DataFrame, ::DataFrame)\n\nClosest candidates are:\n  getindex(::AbstractDataFrame, !Matched::CartesianIndex{2})\n   @ DataFrames ~/.julia/packages/DataFrames/LteEl/src/other/broadcasting.jl:3\n  getindex(::AbstractDataFrame, !Matched::Integer, !Matched::Colon)\n   @ DataFrames ~/.julia/packages/DataFrames/LteEl/src/dataframerow/dataframerow.jl:210\n  getindex(::AbstractDataFrame, !Matched::Integer, !Matched::Union{Colon, Regex, All, Between, Cols, InvertedIndex, AbstractVector})\n   @ DataFrames ~/.julia/packages/DataFrames/LteEl/src/dataframerow/dataframerow.jl:208\n  ...\n",
     "output_type": "error",
     "traceback": [
      "MethodError: no method matching getindex(::DataFrame, ::DataFrame)\n",
      "\n",
      "Closest candidates are:\n",
      "  getindex(::AbstractDataFrame, !Matched::CartesianIndex{2})\n",
      "   @ DataFrames ~/.julia/packages/DataFrames/LteEl/src/other/broadcasting.jl:3\n",
      "  getindex(::AbstractDataFrame, !Matched::Integer, !Matched::Colon)\n",
      "   @ DataFrames ~/.julia/packages/DataFrames/LteEl/src/dataframerow/dataframerow.jl:210\n",
      "  getindex(::AbstractDataFrame, !Matched::Integer, !Matched::Union{Colon, Regex, All, Between, Cols, InvertedIndex, AbstractVector})\n",
      "   @ DataFrames ~/.julia/packages/DataFrames/LteEl/src/dataframerow/dataframerow.jl:208\n",
      "  ...\n",
      "\n",
      "\n",
      "Stacktrace:\n",
      " [1] top-level scope\n",
      "   @ ~/localProjects/RLProject/output/agent_stats.ipynb:1"
     ]
    }
   ],
   "source": [
    "data_out = acrobot_mf[(acrobot_mf .>= lower_bound) .& (acrobot_mf .<= upper_bound)]\n"
   ]
  },
  {
   "cell_type": "code",
   "execution_count": 89,
   "metadata": {},
   "outputs": [
    {
     "ename": "MethodError",
     "evalue": "MethodError: no method matching getindex(::DataFrame, ::DataFrame, ::Colon)\n\nClosest candidates are:\n  getindex(::AbstractDataFrame, !Matched::Integer, ::Colon)\n   @ DataFrames ~/.julia/packages/DataFrames/LteEl/src/dataframerow/dataframerow.jl:210\n  getindex(::AbstractDataFrame, !Matched::Integer, ::Union{Colon, Regex, All, Between, Cols, InvertedIndex, AbstractVector})\n   @ DataFrames ~/.julia/packages/DataFrames/LteEl/src/dataframerow/dataframerow.jl:208\n  getindex(::DataFrame, !Matched::typeof(!), ::Union{Colon, Regex, All, Between, Cols, InvertedIndex, AbstractVector})\n   @ DataFrames ~/.julia/packages/DataFrames/LteEl/src/dataframe/dataframe.jl:625\n  ...\n",
     "output_type": "error",
     "traceback": [
      "MethodError: no method matching getindex(::DataFrame, ::DataFrame, ::Colon)\n",
      "\n",
      "Closest candidates are:\n",
      "  getindex(::AbstractDataFrame, !Matched::Integer, ::Colon)\n",
      "   @ DataFrames ~/.julia/packages/DataFrames/LteEl/src/dataframerow/dataframerow.jl:210\n",
      "  getindex(::AbstractDataFrame, !Matched::Integer, ::Union{Colon, Regex, All, Between, Cols, InvertedIndex, AbstractVector})\n",
      "   @ DataFrames ~/.julia/packages/DataFrames/LteEl/src/dataframerow/dataframerow.jl:208\n",
      "  getindex(::DataFrame, !Matched::typeof(!), ::Union{Colon, Regex, All, Between, Cols, InvertedIndex, AbstractVector})\n",
      "   @ DataFrames ~/.julia/packages/DataFrames/LteEl/src/dataframe/dataframe.jl:625\n",
      "  ...\n",
      "\n",
      "\n",
      "Stacktrace:\n",
      " [1] top-level scope\n",
      "   @ ~/localProjects/RLProject/output/agent_stats.ipynb:1"
     ]
    }
   ],
   "source": [
    "acrobot_mf[(acrobot_mf .>= lower_bound) .& (acrobot_mf .<= upper_bound),:]"
   ]
  },
  {
   "cell_type": "code",
   "execution_count": null,
   "metadata": {},
   "outputs": [],
   "source": [
    "eachrow(((acrobot_mf .< lower_bound) .| (acrobot_mf .> upper_bound)))"
   ]
  },
  {
   "cell_type": "code",
   "execution_count": 111,
   "metadata": {},
   "outputs": [
    {
     "data": {
      "text/plain": [
       "trim_df! (generic function with 1 method)"
      ]
     },
     "metadata": {},
     "output_type": "display_data"
    }
   ],
   "source": [
    "function trim_df!(df, v, pc) # removes bottom and top pc%\n",
    "    vars_pc_lower_value = percentile(df[!, v], pc)\n",
    "    vars_pc_upper_value = percentile(df[!, v], 100-pc)\n",
    "    filter!(v => x -> vars_pc_lower_value < x < vars_pc_upper_value, df)\n",
    "    return df\n",
    "end"
   ]
  },
  {
   "cell_type": "code",
   "execution_count": null,
   "metadata": {},
   "outputs": [],
   "source": [
    "trim_df(acrobot_mf, )"
   ]
  },
  {
   "cell_type": "code",
   "execution_count": 109,
   "metadata": {},
   "outputs": [
    {
     "ename": "MethodError",
     "evalue": "MethodError: no method matching isless(::DataFrameRow{DataFrame, DataFrames.Index}, ::Float64)\n\nClosest candidates are:\n  isless(!Matched::T, ::T) where T<:Union{Float16, Float32, Float64}\n   @ Base float.jl:547\n  isless(!Matched::Union{StatsBase.PValue, StatsBase.TestStat}, ::AbstractFloat)\n   @ StatsBase ~/.julia/packages/StatsBase/iMkPf/src/statmodels.jl:99\n  isless(!Matched::Union{StatsBase.PValue, StatsBase.TestStat}, ::Real)\n   @ StatsBase ~/.julia/packages/StatsBase/iMkPf/src/statmodels.jl:90\n  ...\n",
     "output_type": "error",
     "traceback": [
      "MethodError: no method matching isless(::DataFrameRow{DataFrame, DataFrames.Index}, ::Float64)\n",
      "\n",
      "Closest candidates are:\n",
      "  isless(!Matched::T, ::T) where T<:Union{Float16, Float32, Float64}\n",
      "   @ Base float.jl:547\n",
      "  isless(!Matched::Union{StatsBase.PValue, StatsBase.TestStat}, ::AbstractFloat)\n",
      "   @ StatsBase ~/.julia/packages/StatsBase/iMkPf/src/statmodels.jl:99\n",
      "  isless(!Matched::Union{StatsBase.PValue, StatsBase.TestStat}, ::Real)\n",
      "   @ StatsBase ~/.julia/packages/StatsBase/iMkPf/src/statmodels.jl:90\n",
      "  ...\n",
      "\n",
      "\n",
      "Stacktrace:\n",
      " [1] <(x::DataFrameRow{DataFrame, DataFrames.Index}, y::Float64)\n",
      "   @ Base ./operators.jl:343\n",
      " [2] top-level scope\n",
      "   @ ~/localProjects/RLProject/output/agent_stats.ipynb:1"
     ]
    }
   ],
   "source": [
    "acrobot_mf[100,:] < 0.0"
   ]
  },
  {
   "cell_type": "code",
   "execution_count": 96,
   "metadata": {},
   "outputs": [
    {
     "ename": "MethodError",
     "evalue": "MethodError: no method matching isless(::DataFrameRow{DataFrame, DataFrames.Index}, ::Int64)\n\nClosest candidates are:\n  isless(!Matched::Union{StatsBase.PValue, StatsBase.TestStat}, ::Real)\n   @ StatsBase ~/.julia/packages/StatsBase/iMkPf/src/statmodels.jl:90\n  isless(!Matched::AbstractFloat, ::Real)\n   @ Base operators.jl:179\n  isless(::DataFrameRow, !Matched::DataFrames.GroupKey)\n   @ DataFrames ~/.julia/packages/DataFrames/LteEl/src/groupeddataframe/groupeddataframe.jl:712\n  ...\n",
     "output_type": "error",
     "traceback": [
      "MethodError: no method matching isless(::DataFrameRow{DataFrame, DataFrames.Index}, ::Int64)\n",
      "\n",
      "Closest candidates are:\n",
      "  isless(!Matched::Union{StatsBase.PValue, StatsBase.TestStat}, ::Real)\n",
      "   @ StatsBase ~/.julia/packages/StatsBase/iMkPf/src/statmodels.jl:90\n",
      "  isless(!Matched::AbstractFloat, ::Real)\n",
      "   @ Base operators.jl:179\n",
      "  isless(::DataFrameRow, !Matched::DataFrames.GroupKey)\n",
      "   @ DataFrames ~/.julia/packages/DataFrames/LteEl/src/groupeddataframe/groupeddataframe.jl:712\n",
      "  ...\n",
      "\n",
      "\n",
      "Stacktrace:\n",
      " [1] <(x::DataFrameRow{DataFrame, DataFrames.Index}, y::Int64)\n",
      "   @ Base ./operators.jl:343\n",
      " [2] <=(x::DataFrameRow{DataFrame, DataFrames.Index}, y::Int64)\n",
      "   @ Base ./operators.jl:392\n",
      " [3] (::var\"#21#22\")(row::DataFrameRow{DataFrame, DataFrames.Index})\n",
      "   @ Main ~/localProjects/RLProject/output/agent_stats.ipynb:1\n",
      " [4] filter(f::var\"#21#22\", a::DataFrames.DataFrameRows{DataFrame})\n",
      "   @ Base ./array.jl:2625\n",
      " [5] top-level scope\n",
      "   @ ~/localProjects/RLProject/output/agent_stats.ipynb:1"
     ]
    }
   ],
   "source": [
    "filter(row -> row <= -200 , eachrow(acrobot_mf))"
   ]
  },
  {
   "cell_type": "code",
   "execution_count": 90,
   "metadata": {},
   "outputs": [
    {
     "data": {
      "text/html": [
       "<div><div style = \"float: left;\"><span>391×10 DataFrame</span></div><div style = \"float: right;\"><span style = \"font-style: italic;\">366 rows omitted</span></div><div style = \"clear: both;\"></div></div><div class = \"data-frame\" style = \"overflow-x: scroll;\"><table class = \"data-frame\" style = \"margin-bottom: 6px;\"><thead><tr class = \"header\"><th class = \"rowNumber\" style = \"font-weight: bold; text-align: right;\">Row</th><th style = \"text-align: left;\">Rewards_1</th><th style = \"text-align: left;\">Rewards_2</th><th style = \"text-align: left;\">Rewards_3</th><th style = \"text-align: left;\">Rewards_4</th><th style = \"text-align: left;\">Rewards_5</th><th style = \"text-align: left;\">Rewards_6</th><th style = \"text-align: left;\">Rewards_7</th><th style = \"text-align: left;\">Rewards_8</th><th style = \"text-align: left;\">Rewards_9</th><th style = \"text-align: left;\">Rewards_10</th></tr><tr class = \"subheader headerLastRow\"><th class = \"rowNumber\" style = \"font-weight: bold; text-align: right;\"></th><th title = \"Float64\" style = \"text-align: left;\">Float64</th><th title = \"Float64\" style = \"text-align: left;\">Float64</th><th title = \"Float64\" style = \"text-align: left;\">Float64</th><th title = \"Float64\" style = \"text-align: left;\">Float64</th><th title = \"Float64\" style = \"text-align: left;\">Float64</th><th title = \"Float64\" style = \"text-align: left;\">Float64</th><th title = \"Float64\" style = \"text-align: left;\">Float64</th><th title = \"Float64\" style = \"text-align: left;\">Float64</th><th title = \"Float64\" style = \"text-align: left;\">Float64</th><th title = \"Float64\" style = \"text-align: left;\">Float64</th></tr></thead><tbody><tr><td class = \"rowNumber\" style = \"font-weight: bold; text-align: right;\">1</td><td style = \"text-align: right;\">-341.0</td><td style = \"text-align: right;\">-500.0</td><td style = \"text-align: right;\">-500.0</td><td style = \"text-align: right;\">-500.0</td><td style = \"text-align: right;\">-500.0</td><td style = \"text-align: right;\">-500.0</td><td style = \"text-align: right;\">-500.0</td><td style = \"text-align: right;\">-500.0</td><td style = \"text-align: right;\">-500.0</td><td style = \"text-align: right;\">-500.0</td></tr><tr><td class = \"rowNumber\" style = \"font-weight: bold; text-align: right;\">2</td><td style = \"text-align: right;\">-465.0</td><td style = \"text-align: right;\">-500.0</td><td style = \"text-align: right;\">-248.0</td><td style = \"text-align: right;\">-500.0</td><td style = \"text-align: right;\">-500.0</td><td style = \"text-align: right;\">-376.0</td><td style = \"text-align: right;\">-500.0</td><td style = \"text-align: right;\">-342.0</td><td style = \"text-align: right;\">-500.0</td><td style = \"text-align: right;\">-500.0</td></tr><tr><td class = \"rowNumber\" style = \"font-weight: bold; text-align: right;\">3</td><td style = \"text-align: right;\">-229.0</td><td style = \"text-align: right;\">-500.0</td><td style = \"text-align: right;\">-500.0</td><td style = \"text-align: right;\">-500.0</td><td style = \"text-align: right;\">-318.0</td><td style = \"text-align: right;\">-500.0</td><td style = \"text-align: right;\">-500.0</td><td style = \"text-align: right;\">-500.0</td><td style = \"text-align: right;\">-500.0</td><td style = \"text-align: right;\">-402.0</td></tr><tr><td class = \"rowNumber\" style = \"font-weight: bold; text-align: right;\">4</td><td style = \"text-align: right;\">-493.0</td><td style = \"text-align: right;\">-499.0</td><td style = \"text-align: right;\">-317.0</td><td style = \"text-align: right;\">-423.0</td><td style = \"text-align: right;\">-358.0</td><td style = \"text-align: right;\">-480.0</td><td style = \"text-align: right;\">-339.0</td><td style = \"text-align: right;\">-334.0</td><td style = \"text-align: right;\">-479.0</td><td style = \"text-align: right;\">-500.0</td></tr><tr><td class = \"rowNumber\" style = \"font-weight: bold; text-align: right;\">5</td><td style = \"text-align: right;\">-485.0</td><td style = \"text-align: right;\">-275.0</td><td style = \"text-align: right;\">-429.0</td><td style = \"text-align: right;\">-239.0</td><td style = \"text-align: right;\">-465.0</td><td style = \"text-align: right;\">-407.0</td><td style = \"text-align: right;\">-500.0</td><td style = \"text-align: right;\">-383.0</td><td style = \"text-align: right;\">-265.0</td><td style = \"text-align: right;\">-500.0</td></tr><tr><td class = \"rowNumber\" style = \"font-weight: bold; text-align: right;\">6</td><td style = \"text-align: right;\">-378.0</td><td style = \"text-align: right;\">-333.0</td><td style = \"text-align: right;\">-356.0</td><td style = \"text-align: right;\">-500.0</td><td style = \"text-align: right;\">-224.0</td><td style = \"text-align: right;\">-206.0</td><td style = \"text-align: right;\">-500.0</td><td style = \"text-align: right;\">-500.0</td><td style = \"text-align: right;\">-404.0</td><td style = \"text-align: right;\">-500.0</td></tr><tr><td class = \"rowNumber\" style = \"font-weight: bold; text-align: right;\">7</td><td style = \"text-align: right;\">-181.0</td><td style = \"text-align: right;\">-247.0</td><td style = \"text-align: right;\">-500.0</td><td style = \"text-align: right;\">-400.0</td><td style = \"text-align: right;\">-298.0</td><td style = \"text-align: right;\">-500.0</td><td style = \"text-align: right;\">-500.0</td><td style = \"text-align: right;\">-356.0</td><td style = \"text-align: right;\">-266.0</td><td style = \"text-align: right;\">-500.0</td></tr><tr><td class = \"rowNumber\" style = \"font-weight: bold; text-align: right;\">8</td><td style = \"text-align: right;\">-371.0</td><td style = \"text-align: right;\">-191.0</td><td style = \"text-align: right;\">-187.0</td><td style = \"text-align: right;\">-193.0</td><td style = \"text-align: right;\">-165.0</td><td style = \"text-align: right;\">-324.0</td><td style = \"text-align: right;\">-190.0</td><td style = \"text-align: right;\">-322.0</td><td style = \"text-align: right;\">-282.0</td><td style = \"text-align: right;\">-500.0</td></tr><tr><td class = \"rowNumber\" style = \"font-weight: bold; text-align: right;\">9</td><td style = \"text-align: right;\">-205.0</td><td style = \"text-align: right;\">-500.0</td><td style = \"text-align: right;\">-265.0</td><td style = \"text-align: right;\">-500.0</td><td style = \"text-align: right;\">-104.0</td><td style = \"text-align: right;\">-439.0</td><td style = \"text-align: right;\">-500.0</td><td style = \"text-align: right;\">-500.0</td><td style = \"text-align: right;\">-110.0</td><td style = \"text-align: right;\">-500.0</td></tr><tr><td class = \"rowNumber\" style = \"font-weight: bold; text-align: right;\">10</td><td style = \"text-align: right;\">-475.0</td><td style = \"text-align: right;\">-188.0</td><td style = \"text-align: right;\">-500.0</td><td style = \"text-align: right;\">-500.0</td><td style = \"text-align: right;\">-500.0</td><td style = \"text-align: right;\">-500.0</td><td style = \"text-align: right;\">-500.0</td><td style = \"text-align: right;\">-295.0</td><td style = \"text-align: right;\">-215.0</td><td style = \"text-align: right;\">-400.0</td></tr><tr><td class = \"rowNumber\" style = \"font-weight: bold; text-align: right;\">11</td><td style = \"text-align: right;\">-236.0</td><td style = \"text-align: right;\">-220.0</td><td style = \"text-align: right;\">-278.0</td><td style = \"text-align: right;\">-293.0</td><td style = \"text-align: right;\">-320.0</td><td style = \"text-align: right;\">-165.0</td><td style = \"text-align: right;\">-459.0</td><td style = \"text-align: right;\">-415.0</td><td style = \"text-align: right;\">-165.0</td><td style = \"text-align: right;\">-284.0</td></tr><tr><td class = \"rowNumber\" style = \"font-weight: bold; text-align: right;\">12</td><td style = \"text-align: right;\">-204.0</td><td style = \"text-align: right;\">-133.0</td><td style = \"text-align: right;\">-500.0</td><td style = \"text-align: right;\">-500.0</td><td style = \"text-align: right;\">-500.0</td><td style = \"text-align: right;\">-126.0</td><td style = \"text-align: right;\">-222.0</td><td style = \"text-align: right;\">-500.0</td><td style = \"text-align: right;\">-500.0</td><td style = \"text-align: right;\">-215.0</td></tr><tr><td class = \"rowNumber\" style = \"font-weight: bold; text-align: right;\">13</td><td style = \"text-align: right;\">-215.0</td><td style = \"text-align: right;\">-190.0</td><td style = \"text-align: right;\">-210.0</td><td style = \"text-align: right;\">-154.0</td><td style = \"text-align: right;\">-173.0</td><td style = \"text-align: right;\">-197.0</td><td style = \"text-align: right;\">-485.0</td><td style = \"text-align: right;\">-313.0</td><td style = \"text-align: right;\">-148.0</td><td style = \"text-align: right;\">-372.0</td></tr><tr><td style = \"text-align: right;\">&vellip;</td><td style = \"text-align: right;\">&vellip;</td><td style = \"text-align: right;\">&vellip;</td><td style = \"text-align: right;\">&vellip;</td><td style = \"text-align: right;\">&vellip;</td><td style = \"text-align: right;\">&vellip;</td><td style = \"text-align: right;\">&vellip;</td><td style = \"text-align: right;\">&vellip;</td><td style = \"text-align: right;\">&vellip;</td><td style = \"text-align: right;\">&vellip;</td><td style = \"text-align: right;\">&vellip;</td></tr><tr><td class = \"rowNumber\" style = \"font-weight: bold; text-align: right;\">380</td><td style = \"text-align: right;\">-120.0</td><td style = \"text-align: right;\">-111.0</td><td style = \"text-align: right;\">-85.0</td><td style = \"text-align: right;\">-125.0</td><td style = \"text-align: right;\">-112.0</td><td style = \"text-align: right;\">-96.0</td><td style = \"text-align: right;\">-220.0</td><td style = \"text-align: right;\">-93.0</td><td style = \"text-align: right;\">-178.0</td><td style = \"text-align: right;\">-102.0</td></tr><tr><td class = \"rowNumber\" style = \"font-weight: bold; text-align: right;\">381</td><td style = \"text-align: right;\">-153.0</td><td style = \"text-align: right;\">-116.0</td><td style = \"text-align: right;\">-119.0</td><td style = \"text-align: right;\">-106.0</td><td style = \"text-align: right;\">-116.0</td><td style = \"text-align: right;\">-104.0</td><td style = \"text-align: right;\">-93.0</td><td style = \"text-align: right;\">-124.0</td><td style = \"text-align: right;\">-141.0</td><td style = \"text-align: right;\">-124.0</td></tr><tr><td class = \"rowNumber\" style = \"font-weight: bold; text-align: right;\">382</td><td style = \"text-align: right;\">-146.0</td><td style = \"text-align: right;\">-315.0</td><td style = \"text-align: right;\">-110.0</td><td style = \"text-align: right;\">-151.0</td><td style = \"text-align: right;\">-149.0</td><td style = \"text-align: right;\">-100.0</td><td style = \"text-align: right;\">-90.0</td><td style = \"text-align: right;\">-123.0</td><td style = \"text-align: right;\">-103.0</td><td style = \"text-align: right;\">-139.0</td></tr><tr><td class = \"rowNumber\" style = \"font-weight: bold; text-align: right;\">383</td><td style = \"text-align: right;\">-160.0</td><td style = \"text-align: right;\">-127.0</td><td style = \"text-align: right;\">-149.0</td><td style = \"text-align: right;\">-128.0</td><td style = \"text-align: right;\">-96.0</td><td style = \"text-align: right;\">-87.0</td><td style = \"text-align: right;\">-78.0</td><td style = \"text-align: right;\">-145.0</td><td style = \"text-align: right;\">-127.0</td><td style = \"text-align: right;\">-118.0</td></tr><tr><td class = \"rowNumber\" style = \"font-weight: bold; text-align: right;\">384</td><td style = \"text-align: right;\">-288.0</td><td style = \"text-align: right;\">-152.0</td><td style = \"text-align: right;\">-97.0</td><td style = \"text-align: right;\">-115.0</td><td style = \"text-align: right;\">-118.0</td><td style = \"text-align: right;\">-90.0</td><td style = \"text-align: right;\">-104.0</td><td style = \"text-align: right;\">-96.0</td><td style = \"text-align: right;\">-88.0</td><td style = \"text-align: right;\">-118.0</td></tr><tr><td class = \"rowNumber\" style = \"font-weight: bold; text-align: right;\">385</td><td style = \"text-align: right;\">-150.0</td><td style = \"text-align: right;\">-146.0</td><td style = \"text-align: right;\">-114.0</td><td style = \"text-align: right;\">-132.0</td><td style = \"text-align: right;\">-87.0</td><td style = \"text-align: right;\">-80.0</td><td style = \"text-align: right;\">-114.0</td><td style = \"text-align: right;\">-108.0</td><td style = \"text-align: right;\">-96.0</td><td style = \"text-align: right;\">-116.0</td></tr><tr><td class = \"rowNumber\" style = \"font-weight: bold; text-align: right;\">386</td><td style = \"text-align: right;\">-144.0</td><td style = \"text-align: right;\">-258.0</td><td style = \"text-align: right;\">-298.0</td><td style = \"text-align: right;\">-87.0</td><td style = \"text-align: right;\">-128.0</td><td style = \"text-align: right;\">-81.0</td><td style = \"text-align: right;\">-85.0</td><td style = \"text-align: right;\">-158.0</td><td style = \"text-align: right;\">-108.0</td><td style = \"text-align: right;\">-167.0</td></tr><tr><td class = \"rowNumber\" style = \"font-weight: bold; text-align: right;\">387</td><td style = \"text-align: right;\">-154.0</td><td style = \"text-align: right;\">-110.0</td><td style = \"text-align: right;\">-193.0</td><td style = \"text-align: right;\">-158.0</td><td style = \"text-align: right;\">-115.0</td><td style = \"text-align: right;\">-251.0</td><td style = \"text-align: right;\">-99.0</td><td style = \"text-align: right;\">-163.0</td><td style = \"text-align: right;\">-103.0</td><td style = \"text-align: right;\">-130.0</td></tr><tr><td class = \"rowNumber\" style = \"font-weight: bold; text-align: right;\">388</td><td style = \"text-align: right;\">-320.0</td><td style = \"text-align: right;\">-92.0</td><td style = \"text-align: right;\">-192.0</td><td style = \"text-align: right;\">-129.0</td><td style = \"text-align: right;\">-140.0</td><td style = \"text-align: right;\">-117.0</td><td style = \"text-align: right;\">-118.0</td><td style = \"text-align: right;\">-101.0</td><td style = \"text-align: right;\">-114.0</td><td style = \"text-align: right;\">-116.0</td></tr><tr><td class = \"rowNumber\" style = \"font-weight: bold; text-align: right;\">389</td><td style = \"text-align: right;\">-123.0</td><td style = \"text-align: right;\">-127.0</td><td style = \"text-align: right;\">-146.0</td><td style = \"text-align: right;\">-126.0</td><td style = \"text-align: right;\">-138.0</td><td style = \"text-align: right;\">-95.0</td><td style = \"text-align: right;\">-97.0</td><td style = \"text-align: right;\">-107.0</td><td style = \"text-align: right;\">-97.0</td><td style = \"text-align: right;\">-115.0</td></tr><tr><td class = \"rowNumber\" style = \"font-weight: bold; text-align: right;\">390</td><td style = \"text-align: right;\">-155.0</td><td style = \"text-align: right;\">-99.0</td><td style = \"text-align: right;\">-124.0</td><td style = \"text-align: right;\">-105.0</td><td style = \"text-align: right;\">-82.0</td><td style = \"text-align: right;\">-81.0</td><td style = \"text-align: right;\">-158.0</td><td style = \"text-align: right;\">-89.0</td><td style = \"text-align: right;\">-124.0</td><td style = \"text-align: right;\">-89.0</td></tr><tr><td class = \"rowNumber\" style = \"font-weight: bold; text-align: right;\">391</td><td style = \"text-align: right;\">-141.0</td><td style = \"text-align: right;\">-96.0</td><td style = \"text-align: right;\">-120.0</td><td style = \"text-align: right;\">-94.0</td><td style = \"text-align: right;\">-98.0</td><td style = \"text-align: right;\">-70.0</td><td style = \"text-align: right;\">-109.0</td><td style = \"text-align: right;\">-94.0</td><td style = \"text-align: right;\">-423.0</td><td style = \"text-align: right;\">-107.0</td></tr></tbody></table></div>"
      ],
      "text/latex": [
       "\\begin{tabular}{r|ccccccccc}\n",
       "\t& Rewards\\_1 & Rewards\\_2 & Rewards\\_3 & Rewards\\_4 & Rewards\\_5 & Rewards\\_6 & Rewards\\_7 & Rewards\\_8 & \\\\\n",
       "\t\\hline\n",
       "\t& Float64 & Float64 & Float64 & Float64 & Float64 & Float64 & Float64 & Float64 & \\\\\n",
       "\t\\hline\n",
       "\t1 & -341.0 & -500.0 & -500.0 & -500.0 & -500.0 & -500.0 & -500.0 & -500.0 & $\\dots$ \\\\\n",
       "\t2 & -465.0 & -500.0 & -248.0 & -500.0 & -500.0 & -376.0 & -500.0 & -342.0 & $\\dots$ \\\\\n",
       "\t3 & -229.0 & -500.0 & -500.0 & -500.0 & -318.0 & -500.0 & -500.0 & -500.0 & $\\dots$ \\\\\n",
       "\t4 & -493.0 & -499.0 & -317.0 & -423.0 & -358.0 & -480.0 & -339.0 & -334.0 & $\\dots$ \\\\\n",
       "\t5 & -485.0 & -275.0 & -429.0 & -239.0 & -465.0 & -407.0 & -500.0 & -383.0 & $\\dots$ \\\\\n",
       "\t6 & -378.0 & -333.0 & -356.0 & -500.0 & -224.0 & -206.0 & -500.0 & -500.0 & $\\dots$ \\\\\n",
       "\t7 & -181.0 & -247.0 & -500.0 & -400.0 & -298.0 & -500.0 & -500.0 & -356.0 & $\\dots$ \\\\\n",
       "\t8 & -371.0 & -191.0 & -187.0 & -193.0 & -165.0 & -324.0 & -190.0 & -322.0 & $\\dots$ \\\\\n",
       "\t9 & -205.0 & -500.0 & -265.0 & -500.0 & -104.0 & -439.0 & -500.0 & -500.0 & $\\dots$ \\\\\n",
       "\t10 & -475.0 & -188.0 & -500.0 & -500.0 & -500.0 & -500.0 & -500.0 & -295.0 & $\\dots$ \\\\\n",
       "\t11 & -236.0 & -220.0 & -278.0 & -293.0 & -320.0 & -165.0 & -459.0 & -415.0 & $\\dots$ \\\\\n",
       "\t12 & -204.0 & -133.0 & -500.0 & -500.0 & -500.0 & -126.0 & -222.0 & -500.0 & $\\dots$ \\\\\n",
       "\t13 & -215.0 & -190.0 & -210.0 & -154.0 & -173.0 & -197.0 & -485.0 & -313.0 & $\\dots$ \\\\\n",
       "\t14 & -315.0 & -376.0 & -224.0 & -173.0 & -122.0 & -244.0 & -232.0 & -199.0 & $\\dots$ \\\\\n",
       "\t15 & -197.0 & -500.0 & -500.0 & -105.0 & -500.0 & -393.0 & -166.0 & -500.0 & $\\dots$ \\\\\n",
       "\t16 & -179.0 & -261.0 & -153.0 & -296.0 & -180.0 & -253.0 & -260.0 & -297.0 & $\\dots$ \\\\\n",
       "\t17 & -168.0 & -229.0 & -179.0 & -255.0 & -191.0 & -136.0 & -222.0 & -289.0 & $\\dots$ \\\\\n",
       "\t18 & -245.0 & -418.0 & -305.0 & -185.0 & -500.0 & -500.0 & -500.0 & -341.0 & $\\dots$ \\\\\n",
       "\t19 & -146.0 & -169.0 & -295.0 & -160.0 & -142.0 & -369.0 & -210.0 & -183.0 & $\\dots$ \\\\\n",
       "\t20 & -163.0 & -140.0 & -133.0 & -403.0 & -201.0 & -136.0 & -195.0 & -163.0 & $\\dots$ \\\\\n",
       "\t21 & -166.0 & -231.0 & -232.0 & -151.0 & -195.0 & -252.0 & -157.0 & -110.0 & $\\dots$ \\\\\n",
       "\t22 & -228.0 & -132.0 & -190.0 & -91.0 & -174.0 & -128.0 & -169.0 & -126.0 & $\\dots$ \\\\\n",
       "\t23 & -216.0 & -214.0 & -216.0 & -112.0 & -168.0 & -165.0 & -288.0 & -141.0 & $\\dots$ \\\\\n",
       "\t24 & -217.0 & -207.0 & -288.0 & -130.0 & -211.0 & -155.0 & -167.0 & -202.0 & $\\dots$ \\\\\n",
       "\t$\\dots$ & $\\dots$ & $\\dots$ & $\\dots$ & $\\dots$ & $\\dots$ & $\\dots$ & $\\dots$ & $\\dots$ &  \\\\\n",
       "\\end{tabular}\n"
      ],
      "text/plain": [
       "\u001b[1m391×10 DataFrame\u001b[0m\n",
       "\u001b[1m Row \u001b[0m│\u001b[1m Rewards_1 \u001b[0m\u001b[1m Rewards_2 \u001b[0m\u001b[1m Rewards_3 \u001b[0m\u001b[1m Rewards_4 \u001b[0m\u001b[1m Rewards_5 \u001b[0m\u001b[1m Rewards_6 \u001b[0m\u001b[1m Rewar\u001b[0m ⋯\n",
       "     │\u001b[90m Float64   \u001b[0m\u001b[90m Float64   \u001b[0m\u001b[90m Float64   \u001b[0m\u001b[90m Float64   \u001b[0m\u001b[90m Float64   \u001b[0m\u001b[90m Float64   \u001b[0m\u001b[90m Float\u001b[0m ⋯\n",
       "─────┼──────────────────────────────────────────────────────────────────────────\n",
       "   1 │    -341.0     -500.0     -500.0     -500.0     -500.0     -500.0     -5 ⋯\n",
       "   2 │    -465.0     -500.0     -248.0     -500.0     -500.0     -376.0     -5\n",
       "   3 │    -229.0     -500.0     -500.0     -500.0     -318.0     -500.0     -5\n",
       "   4 │    -493.0     -499.0     -317.0     -423.0     -358.0     -480.0     -3\n",
       "   5 │    -485.0     -275.0     -429.0     -239.0     -465.0     -407.0     -5 ⋯\n",
       "   6 │    -378.0     -333.0     -356.0     -500.0     -224.0     -206.0     -5\n",
       "   7 │    -181.0     -247.0     -500.0     -400.0     -298.0     -500.0     -5\n",
       "   8 │    -371.0     -191.0     -187.0     -193.0     -165.0     -324.0     -1\n",
       "  ⋮  │     ⋮          ⋮          ⋮          ⋮          ⋮          ⋮          ⋮ ⋱\n",
       " 385 │    -150.0     -146.0     -114.0     -132.0      -87.0      -80.0     -1 ⋯\n",
       " 386 │    -144.0     -258.0     -298.0      -87.0     -128.0      -81.0      -\n",
       " 387 │    -154.0     -110.0     -193.0     -158.0     -115.0     -251.0      -\n",
       " 388 │    -320.0      -92.0     -192.0     -129.0     -140.0     -117.0     -1\n",
       " 389 │    -123.0     -127.0     -146.0     -126.0     -138.0      -95.0      - ⋯\n",
       " 390 │    -155.0      -99.0     -124.0     -105.0      -82.0      -81.0     -1\n",
       " 391 │    -141.0      -96.0     -120.0      -94.0      -98.0      -70.0     -1\n",
       "\u001b[36m                                                  4 columns and 376 rows omitted\u001b[0m"
      ]
     },
     "metadata": {},
     "output_type": "display_data"
    }
   ],
   "source": [
    "filter(row -> row[1] < lower_bound[1] || row[1] > upper_bound[1], acrobot_mf)"
   ]
  },
  {
   "cell_type": "code",
   "execution_count": 86,
   "metadata": {},
   "outputs": [
    {
     "data": {
      "text/html": [
       "<div><div style = \"float: left;\"><span>499×10 DataFrame</span></div><div style = \"float: right;\"><span style = \"font-style: italic;\">474 rows omitted</span></div><div style = \"clear: both;\"></div></div><div class = \"data-frame\" style = \"overflow-x: scroll;\"><table class = \"data-frame\" style = \"margin-bottom: 6px;\"><thead><tr class = \"header\"><th class = \"rowNumber\" style = \"font-weight: bold; text-align: right;\">Row</th><th style = \"text-align: left;\">Rewards_1</th><th style = \"text-align: left;\">Rewards_2</th><th style = \"text-align: left;\">Rewards_3</th><th style = \"text-align: left;\">Rewards_4</th><th style = \"text-align: left;\">Rewards_5</th><th style = \"text-align: left;\">Rewards_6</th><th style = \"text-align: left;\">Rewards_7</th><th style = \"text-align: left;\">Rewards_8</th><th style = \"text-align: left;\">Rewards_9</th><th style = \"text-align: left;\">Rewards_10</th></tr><tr class = \"subheader headerLastRow\"><th class = \"rowNumber\" style = \"font-weight: bold; text-align: right;\"></th><th title = \"Float64\" style = \"text-align: left;\">Float64</th><th title = \"Float64\" style = \"text-align: left;\">Float64</th><th title = \"Float64\" style = \"text-align: left;\">Float64</th><th title = \"Float64\" style = \"text-align: left;\">Float64</th><th title = \"Float64\" style = \"text-align: left;\">Float64</th><th title = \"Float64\" style = \"text-align: left;\">Float64</th><th title = \"Float64\" style = \"text-align: left;\">Float64</th><th title = \"Float64\" style = \"text-align: left;\">Float64</th><th title = \"Float64\" style = \"text-align: left;\">Float64</th><th title = \"Float64\" style = \"text-align: left;\">Float64</th></tr></thead><tbody><tr><td class = \"rowNumber\" style = \"font-weight: bold; text-align: right;\">1</td><td style = \"text-align: right;\">-500.0</td><td style = \"text-align: right;\">-500.0</td><td style = \"text-align: right;\">-500.0</td><td style = \"text-align: right;\">-500.0</td><td style = \"text-align: right;\">-500.0</td><td style = \"text-align: right;\">-500.0</td><td style = \"text-align: right;\">-430.0</td><td style = \"text-align: right;\">-500.0</td><td style = \"text-align: right;\">-500.0</td><td style = \"text-align: right;\">-500.0</td></tr><tr><td class = \"rowNumber\" style = \"font-weight: bold; text-align: right;\">2</td><td style = \"text-align: right;\">-500.0</td><td style = \"text-align: right;\">-500.0</td><td style = \"text-align: right;\">-500.0</td><td style = \"text-align: right;\">-500.0</td><td style = \"text-align: right;\">-500.0</td><td style = \"text-align: right;\">-500.0</td><td style = \"text-align: right;\">-500.0</td><td style = \"text-align: right;\">-500.0</td><td style = \"text-align: right;\">-500.0</td><td style = \"text-align: right;\">-500.0</td></tr><tr><td class = \"rowNumber\" style = \"font-weight: bold; text-align: right;\">3</td><td style = \"text-align: right;\">-500.0</td><td style = \"text-align: right;\">-500.0</td><td style = \"text-align: right;\">-500.0</td><td style = \"text-align: right;\">-500.0</td><td style = \"text-align: right;\">-500.0</td><td style = \"text-align: right;\">-500.0</td><td style = \"text-align: right;\">-500.0</td><td style = \"text-align: right;\">-500.0</td><td style = \"text-align: right;\">-500.0</td><td style = \"text-align: right;\">-500.0</td></tr><tr><td class = \"rowNumber\" style = \"font-weight: bold; text-align: right;\">4</td><td style = \"text-align: right;\">-500.0</td><td style = \"text-align: right;\">-500.0</td><td style = \"text-align: right;\">-500.0</td><td style = \"text-align: right;\">-500.0</td><td style = \"text-align: right;\">-500.0</td><td style = \"text-align: right;\">-500.0</td><td style = \"text-align: right;\">-500.0</td><td style = \"text-align: right;\">-500.0</td><td style = \"text-align: right;\">-500.0</td><td style = \"text-align: right;\">-500.0</td></tr><tr><td class = \"rowNumber\" style = \"font-weight: bold; text-align: right;\">5</td><td style = \"text-align: right;\">-500.0</td><td style = \"text-align: right;\">-500.0</td><td style = \"text-align: right;\">-500.0</td><td style = \"text-align: right;\">-500.0</td><td style = \"text-align: right;\">-500.0</td><td style = \"text-align: right;\">-500.0</td><td style = \"text-align: right;\">-500.0</td><td style = \"text-align: right;\">-500.0</td><td style = \"text-align: right;\">-500.0</td><td style = \"text-align: right;\">-500.0</td></tr><tr><td class = \"rowNumber\" style = \"font-weight: bold; text-align: right;\">6</td><td style = \"text-align: right;\">-500.0</td><td style = \"text-align: right;\">-500.0</td><td style = \"text-align: right;\">-500.0</td><td style = \"text-align: right;\">-500.0</td><td style = \"text-align: right;\">-374.0</td><td style = \"text-align: right;\">-500.0</td><td style = \"text-align: right;\">-500.0</td><td style = \"text-align: right;\">-500.0</td><td style = \"text-align: right;\">-500.0</td><td style = \"text-align: right;\">-500.0</td></tr><tr><td class = \"rowNumber\" style = \"font-weight: bold; text-align: right;\">7</td><td style = \"text-align: right;\">-341.0</td><td style = \"text-align: right;\">-500.0</td><td style = \"text-align: right;\">-500.0</td><td style = \"text-align: right;\">-500.0</td><td style = \"text-align: right;\">-500.0</td><td style = \"text-align: right;\">-500.0</td><td style = \"text-align: right;\">-500.0</td><td style = \"text-align: right;\">-500.0</td><td style = \"text-align: right;\">-500.0</td><td style = \"text-align: right;\">-500.0</td></tr><tr><td class = \"rowNumber\" style = \"font-weight: bold; text-align: right;\">8</td><td style = \"text-align: right;\">-500.0</td><td style = \"text-align: right;\">-500.0</td><td style = \"text-align: right;\">-449.0</td><td style = \"text-align: right;\">-500.0</td><td style = \"text-align: right;\">-500.0</td><td style = \"text-align: right;\">-500.0</td><td style = \"text-align: right;\">-500.0</td><td style = \"text-align: right;\">-500.0</td><td style = \"text-align: right;\">-386.0</td><td style = \"text-align: right;\">-391.0</td></tr><tr><td class = \"rowNumber\" style = \"font-weight: bold; text-align: right;\">9</td><td style = \"text-align: right;\">-500.0</td><td style = \"text-align: right;\">-500.0</td><td style = \"text-align: right;\">-460.0</td><td style = \"text-align: right;\">-500.0</td><td style = \"text-align: right;\">-500.0</td><td style = \"text-align: right;\">-500.0</td><td style = \"text-align: right;\">-500.0</td><td style = \"text-align: right;\">-500.0</td><td style = \"text-align: right;\">-500.0</td><td style = \"text-align: right;\">-278.0</td></tr><tr><td class = \"rowNumber\" style = \"font-weight: bold; text-align: right;\">10</td><td style = \"text-align: right;\">-500.0</td><td style = \"text-align: right;\">-500.0</td><td style = \"text-align: right;\">-500.0</td><td style = \"text-align: right;\">-500.0</td><td style = \"text-align: right;\">-373.0</td><td style = \"text-align: right;\">-484.0</td><td style = \"text-align: right;\">-500.0</td><td style = \"text-align: right;\">-395.0</td><td style = \"text-align: right;\">-500.0</td><td style = \"text-align: right;\">-500.0</td></tr><tr><td class = \"rowNumber\" style = \"font-weight: bold; text-align: right;\">11</td><td style = \"text-align: right;\">-500.0</td><td style = \"text-align: right;\">-500.0</td><td style = \"text-align: right;\">-291.0</td><td style = \"text-align: right;\">-500.0</td><td style = \"text-align: right;\">-500.0</td><td style = \"text-align: right;\">-500.0</td><td style = \"text-align: right;\">-500.0</td><td style = \"text-align: right;\">-500.0</td><td style = \"text-align: right;\">-357.0</td><td style = \"text-align: right;\">-500.0</td></tr><tr><td class = \"rowNumber\" style = \"font-weight: bold; text-align: right;\">12</td><td style = \"text-align: right;\">-465.0</td><td style = \"text-align: right;\">-500.0</td><td style = \"text-align: right;\">-248.0</td><td style = \"text-align: right;\">-500.0</td><td style = \"text-align: right;\">-500.0</td><td style = \"text-align: right;\">-376.0</td><td style = \"text-align: right;\">-500.0</td><td style = \"text-align: right;\">-342.0</td><td style = \"text-align: right;\">-500.0</td><td style = \"text-align: right;\">-500.0</td></tr><tr><td class = \"rowNumber\" style = \"font-weight: bold; text-align: right;\">13</td><td style = \"text-align: right;\">-229.0</td><td style = \"text-align: right;\">-500.0</td><td style = \"text-align: right;\">-500.0</td><td style = \"text-align: right;\">-500.0</td><td style = \"text-align: right;\">-318.0</td><td style = \"text-align: right;\">-500.0</td><td style = \"text-align: right;\">-500.0</td><td style = \"text-align: right;\">-500.0</td><td style = \"text-align: right;\">-500.0</td><td style = \"text-align: right;\">-402.0</td></tr><tr><td style = \"text-align: right;\">&vellip;</td><td style = \"text-align: right;\">&vellip;</td><td style = \"text-align: right;\">&vellip;</td><td style = \"text-align: right;\">&vellip;</td><td style = \"text-align: right;\">&vellip;</td><td style = \"text-align: right;\">&vellip;</td><td style = \"text-align: right;\">&vellip;</td><td style = \"text-align: right;\">&vellip;</td><td style = \"text-align: right;\">&vellip;</td><td style = \"text-align: right;\">&vellip;</td><td style = \"text-align: right;\">&vellip;</td></tr><tr><td class = \"rowNumber\" style = \"font-weight: bold; text-align: right;\">488</td><td style = \"text-align: right;\">-153.0</td><td style = \"text-align: right;\">-116.0</td><td style = \"text-align: right;\">-119.0</td><td style = \"text-align: right;\">-106.0</td><td style = \"text-align: right;\">-116.0</td><td style = \"text-align: right;\">-104.0</td><td style = \"text-align: right;\">-93.0</td><td style = \"text-align: right;\">-124.0</td><td style = \"text-align: right;\">-141.0</td><td style = \"text-align: right;\">-124.0</td></tr><tr><td class = \"rowNumber\" style = \"font-weight: bold; text-align: right;\">489</td><td style = \"text-align: right;\">-146.0</td><td style = \"text-align: right;\">-315.0</td><td style = \"text-align: right;\">-110.0</td><td style = \"text-align: right;\">-151.0</td><td style = \"text-align: right;\">-149.0</td><td style = \"text-align: right;\">-100.0</td><td style = \"text-align: right;\">-90.0</td><td style = \"text-align: right;\">-123.0</td><td style = \"text-align: right;\">-103.0</td><td style = \"text-align: right;\">-139.0</td></tr><tr><td class = \"rowNumber\" style = \"font-weight: bold; text-align: right;\">490</td><td style = \"text-align: right;\">-160.0</td><td style = \"text-align: right;\">-127.0</td><td style = \"text-align: right;\">-149.0</td><td style = \"text-align: right;\">-128.0</td><td style = \"text-align: right;\">-96.0</td><td style = \"text-align: right;\">-87.0</td><td style = \"text-align: right;\">-78.0</td><td style = \"text-align: right;\">-145.0</td><td style = \"text-align: right;\">-127.0</td><td style = \"text-align: right;\">-118.0</td></tr><tr><td class = \"rowNumber\" style = \"font-weight: bold; text-align: right;\">491</td><td style = \"text-align: right;\">-288.0</td><td style = \"text-align: right;\">-152.0</td><td style = \"text-align: right;\">-97.0</td><td style = \"text-align: right;\">-115.0</td><td style = \"text-align: right;\">-118.0</td><td style = \"text-align: right;\">-90.0</td><td style = \"text-align: right;\">-104.0</td><td style = \"text-align: right;\">-96.0</td><td style = \"text-align: right;\">-88.0</td><td style = \"text-align: right;\">-118.0</td></tr><tr><td class = \"rowNumber\" style = \"font-weight: bold; text-align: right;\">492</td><td style = \"text-align: right;\">-150.0</td><td style = \"text-align: right;\">-146.0</td><td style = \"text-align: right;\">-114.0</td><td style = \"text-align: right;\">-132.0</td><td style = \"text-align: right;\">-87.0</td><td style = \"text-align: right;\">-80.0</td><td style = \"text-align: right;\">-114.0</td><td style = \"text-align: right;\">-108.0</td><td style = \"text-align: right;\">-96.0</td><td style = \"text-align: right;\">-116.0</td></tr><tr><td class = \"rowNumber\" style = \"font-weight: bold; text-align: right;\">493</td><td style = \"text-align: right;\">-144.0</td><td style = \"text-align: right;\">-258.0</td><td style = \"text-align: right;\">-298.0</td><td style = \"text-align: right;\">-87.0</td><td style = \"text-align: right;\">-128.0</td><td style = \"text-align: right;\">-81.0</td><td style = \"text-align: right;\">-85.0</td><td style = \"text-align: right;\">-158.0</td><td style = \"text-align: right;\">-108.0</td><td style = \"text-align: right;\">-167.0</td></tr><tr><td class = \"rowNumber\" style = \"font-weight: bold; text-align: right;\">494</td><td style = \"text-align: right;\">-154.0</td><td style = \"text-align: right;\">-110.0</td><td style = \"text-align: right;\">-193.0</td><td style = \"text-align: right;\">-158.0</td><td style = \"text-align: right;\">-115.0</td><td style = \"text-align: right;\">-251.0</td><td style = \"text-align: right;\">-99.0</td><td style = \"text-align: right;\">-163.0</td><td style = \"text-align: right;\">-103.0</td><td style = \"text-align: right;\">-130.0</td></tr><tr><td class = \"rowNumber\" style = \"font-weight: bold; text-align: right;\">495</td><td style = \"text-align: right;\">-320.0</td><td style = \"text-align: right;\">-92.0</td><td style = \"text-align: right;\">-192.0</td><td style = \"text-align: right;\">-129.0</td><td style = \"text-align: right;\">-140.0</td><td style = \"text-align: right;\">-117.0</td><td style = \"text-align: right;\">-118.0</td><td style = \"text-align: right;\">-101.0</td><td style = \"text-align: right;\">-114.0</td><td style = \"text-align: right;\">-116.0</td></tr><tr><td class = \"rowNumber\" style = \"font-weight: bold; text-align: right;\">496</td><td style = \"text-align: right;\">-123.0</td><td style = \"text-align: right;\">-127.0</td><td style = \"text-align: right;\">-146.0</td><td style = \"text-align: right;\">-126.0</td><td style = \"text-align: right;\">-138.0</td><td style = \"text-align: right;\">-95.0</td><td style = \"text-align: right;\">-97.0</td><td style = \"text-align: right;\">-107.0</td><td style = \"text-align: right;\">-97.0</td><td style = \"text-align: right;\">-115.0</td></tr><tr><td class = \"rowNumber\" style = \"font-weight: bold; text-align: right;\">497</td><td style = \"text-align: right;\">-500.0</td><td style = \"text-align: right;\">-209.0</td><td style = \"text-align: right;\">-219.0</td><td style = \"text-align: right;\">-191.0</td><td style = \"text-align: right;\">-102.0</td><td style = \"text-align: right;\">-106.0</td><td style = \"text-align: right;\">-95.0</td><td style = \"text-align: right;\">-150.0</td><td style = \"text-align: right;\">-500.0</td><td style = \"text-align: right;\">-150.0</td></tr><tr><td class = \"rowNumber\" style = \"font-weight: bold; text-align: right;\">498</td><td style = \"text-align: right;\">-155.0</td><td style = \"text-align: right;\">-99.0</td><td style = \"text-align: right;\">-124.0</td><td style = \"text-align: right;\">-105.0</td><td style = \"text-align: right;\">-82.0</td><td style = \"text-align: right;\">-81.0</td><td style = \"text-align: right;\">-158.0</td><td style = \"text-align: right;\">-89.0</td><td style = \"text-align: right;\">-124.0</td><td style = \"text-align: right;\">-89.0</td></tr><tr><td class = \"rowNumber\" style = \"font-weight: bold; text-align: right;\">499</td><td style = \"text-align: right;\">-141.0</td><td style = \"text-align: right;\">-96.0</td><td style = \"text-align: right;\">-120.0</td><td style = \"text-align: right;\">-94.0</td><td style = \"text-align: right;\">-98.0</td><td style = \"text-align: right;\">-70.0</td><td style = \"text-align: right;\">-109.0</td><td style = \"text-align: right;\">-94.0</td><td style = \"text-align: right;\">-423.0</td><td style = \"text-align: right;\">-107.0</td></tr></tbody></table></div>"
      ],
      "text/latex": [
       "\\begin{tabular}{r|ccccccccc}\n",
       "\t& Rewards\\_1 & Rewards\\_2 & Rewards\\_3 & Rewards\\_4 & Rewards\\_5 & Rewards\\_6 & Rewards\\_7 & Rewards\\_8 & \\\\\n",
       "\t\\hline\n",
       "\t& Float64 & Float64 & Float64 & Float64 & Float64 & Float64 & Float64 & Float64 & \\\\\n",
       "\t\\hline\n",
       "\t1 & -500.0 & -500.0 & -500.0 & -500.0 & -500.0 & -500.0 & -430.0 & -500.0 & $\\dots$ \\\\\n",
       "\t2 & -500.0 & -500.0 & -500.0 & -500.0 & -500.0 & -500.0 & -500.0 & -500.0 & $\\dots$ \\\\\n",
       "\t3 & -500.0 & -500.0 & -500.0 & -500.0 & -500.0 & -500.0 & -500.0 & -500.0 & $\\dots$ \\\\\n",
       "\t4 & -500.0 & -500.0 & -500.0 & -500.0 & -500.0 & -500.0 & -500.0 & -500.0 & $\\dots$ \\\\\n",
       "\t5 & -500.0 & -500.0 & -500.0 & -500.0 & -500.0 & -500.0 & -500.0 & -500.0 & $\\dots$ \\\\\n",
       "\t6 & -500.0 & -500.0 & -500.0 & -500.0 & -374.0 & -500.0 & -500.0 & -500.0 & $\\dots$ \\\\\n",
       "\t7 & -341.0 & -500.0 & -500.0 & -500.0 & -500.0 & -500.0 & -500.0 & -500.0 & $\\dots$ \\\\\n",
       "\t8 & -500.0 & -500.0 & -449.0 & -500.0 & -500.0 & -500.0 & -500.0 & -500.0 & $\\dots$ \\\\\n",
       "\t9 & -500.0 & -500.0 & -460.0 & -500.0 & -500.0 & -500.0 & -500.0 & -500.0 & $\\dots$ \\\\\n",
       "\t10 & -500.0 & -500.0 & -500.0 & -500.0 & -373.0 & -484.0 & -500.0 & -395.0 & $\\dots$ \\\\\n",
       "\t11 & -500.0 & -500.0 & -291.0 & -500.0 & -500.0 & -500.0 & -500.0 & -500.0 & $\\dots$ \\\\\n",
       "\t12 & -465.0 & -500.0 & -248.0 & -500.0 & -500.0 & -376.0 & -500.0 & -342.0 & $\\dots$ \\\\\n",
       "\t13 & -229.0 & -500.0 & -500.0 & -500.0 & -318.0 & -500.0 & -500.0 & -500.0 & $\\dots$ \\\\\n",
       "\t14 & -500.0 & -305.0 & -500.0 & -500.0 & -500.0 & -295.0 & -390.0 & -414.0 & $\\dots$ \\\\\n",
       "\t15 & -500.0 & -500.0 & -456.0 & -500.0 & -500.0 & -500.0 & -500.0 & -500.0 & $\\dots$ \\\\\n",
       "\t16 & -493.0 & -499.0 & -317.0 & -423.0 & -358.0 & -480.0 & -339.0 & -334.0 & $\\dots$ \\\\\n",
       "\t17 & -500.0 & -324.0 & -500.0 & -190.0 & -226.0 & -500.0 & -451.0 & -332.0 & $\\dots$ \\\\\n",
       "\t18 & -485.0 & -275.0 & -429.0 & -239.0 & -465.0 & -407.0 & -500.0 & -383.0 & $\\dots$ \\\\\n",
       "\t19 & -500.0 & -500.0 & -500.0 & -500.0 & -500.0 & -500.0 & -408.0 & -500.0 & $\\dots$ \\\\\n",
       "\t20 & -378.0 & -333.0 & -356.0 & -500.0 & -224.0 & -206.0 & -500.0 & -500.0 & $\\dots$ \\\\\n",
       "\t21 & -181.0 & -247.0 & -500.0 & -400.0 & -298.0 & -500.0 & -500.0 & -356.0 & $\\dots$ \\\\\n",
       "\t22 & -371.0 & -191.0 & -187.0 & -193.0 & -165.0 & -324.0 & -190.0 & -322.0 & $\\dots$ \\\\\n",
       "\t23 & -205.0 & -500.0 & -265.0 & -500.0 & -104.0 & -439.0 & -500.0 & -500.0 & $\\dots$ \\\\\n",
       "\t24 & -500.0 & -236.0 & -242.0 & -229.0 & -304.0 & -227.0 & -500.0 & -371.0 & $\\dots$ \\\\\n",
       "\t$\\dots$ & $\\dots$ & $\\dots$ & $\\dots$ & $\\dots$ & $\\dots$ & $\\dots$ & $\\dots$ & $\\dots$ &  \\\\\n",
       "\\end{tabular}\n"
      ],
      "text/plain": [
       "\u001b[1m499×10 DataFrame\u001b[0m\n",
       "\u001b[1m Row \u001b[0m│\u001b[1m Rewards_1 \u001b[0m\u001b[1m Rewards_2 \u001b[0m\u001b[1m Rewards_3 \u001b[0m\u001b[1m Rewards_4 \u001b[0m\u001b[1m Rewards_5 \u001b[0m\u001b[1m Rewards_6 \u001b[0m\u001b[1m Rewar\u001b[0m ⋯\n",
       "     │\u001b[90m Float64   \u001b[0m\u001b[90m Float64   \u001b[0m\u001b[90m Float64   \u001b[0m\u001b[90m Float64   \u001b[0m\u001b[90m Float64   \u001b[0m\u001b[90m Float64   \u001b[0m\u001b[90m Float\u001b[0m ⋯\n",
       "─────┼──────────────────────────────────────────────────────────────────────────\n",
       "   1 │    -500.0     -500.0     -500.0     -500.0     -500.0     -500.0     -4 ⋯\n",
       "   2 │    -500.0     -500.0     -500.0     -500.0     -500.0     -500.0     -5\n",
       "   3 │    -500.0     -500.0     -500.0     -500.0     -500.0     -500.0     -5\n",
       "   4 │    -500.0     -500.0     -500.0     -500.0     -500.0     -500.0     -5\n",
       "   5 │    -500.0     -500.0     -500.0     -500.0     -500.0     -500.0     -5 ⋯\n",
       "   6 │    -500.0     -500.0     -500.0     -500.0     -374.0     -500.0     -5\n",
       "   7 │    -341.0     -500.0     -500.0     -500.0     -500.0     -500.0     -5\n",
       "   8 │    -500.0     -500.0     -449.0     -500.0     -500.0     -500.0     -5\n",
       "  ⋮  │     ⋮          ⋮          ⋮          ⋮          ⋮          ⋮          ⋮ ⋱\n",
       " 493 │    -144.0     -258.0     -298.0      -87.0     -128.0      -81.0      - ⋯\n",
       " 494 │    -154.0     -110.0     -193.0     -158.0     -115.0     -251.0      -\n",
       " 495 │    -320.0      -92.0     -192.0     -129.0     -140.0     -117.0     -1\n",
       " 496 │    -123.0     -127.0     -146.0     -126.0     -138.0      -95.0      -\n",
       " 497 │    -500.0     -209.0     -219.0     -191.0     -102.0     -106.0      - ⋯\n",
       " 498 │    -155.0      -99.0     -124.0     -105.0      -82.0      -81.0     -1\n",
       " 499 │    -141.0      -96.0     -120.0      -94.0      -98.0      -70.0     -1\n",
       "\u001b[36m                                                  4 columns and 484 rows omitted\u001b[0m"
      ]
     },
     "metadata": {},
     "output_type": "display_data"
    }
   ],
   "source": [
    "df2 = filter(x -> x.A != 1, df)"
   ]
  },
  {
   "cell_type": "code",
   "execution_count": null,
   "metadata": {},
   "outputs": [],
   "source": []
  }
 ],
 "metadata": {
  "kernelspec": {
   "display_name": "Julia 1.9.2",
   "language": "julia",
   "name": "julia-1.9"
  },
  "language_info": {
   "file_extension": ".jl",
   "mimetype": "application/julia",
   "name": "julia",
   "version": "1.9.2"
  },
  "orig_nbformat": 4
 },
 "nbformat": 4,
 "nbformat_minor": 2
}
